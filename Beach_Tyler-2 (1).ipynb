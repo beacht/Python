{
  "cells": [
    {
      "cell_type": "markdown",
      "metadata": {
        "id": "HwdCaOc0VMaZ"
      },
      "source": [
        "# This jupyter notebook is prepared by Tyler Beach."
      ]
    },
    {
      "cell_type": "markdown",
      "metadata": {
        "id": "UnX1WCY5VMab"
      },
      "source": [
        "# A3 LogisticRegression, Multi-layer Perceptron (MLP)"
      ]
    },
    {
      "cell_type": "markdown",
      "metadata": {
        "id": "sPvzHP0oVMab"
      },
      "source": [
        "## 1. Load data and perform general EDA (3+2+1+3+6 = 15pts)"
      ]
    },
    {
      "cell_type": "markdown",
      "metadata": {
        "id": "xU5Tgpi_VMab"
      },
      "source": [
        "### 1.1 import libraries: numpy, matplotlib.pyplot and pandas. (1+1+1 = 3pts)"
      ]
    },
    {
      "cell_type": "markdown",
      "metadata": {
        "id": "jFB-2ot5VMab"
      },
      "source": [
        "You can import other libraries below as needed in any block."
      ]
    },
    {
      "cell_type": "code",
      "execution_count": null,
      "metadata": {
        "id": "xLuYb5kJVMac"
      },
      "outputs": [],
      "source": [
        "import numpy as np\n",
        "import matplotlib.pyplot as plt\n",
        "import pandas as pd"
      ]
    },
    {
      "cell_type": "markdown",
      "metadata": {
        "id": "fG9eMQWJVMac"
      },
      "source": [
        "### 1.2 import the data to a pandas dataframe and show the count of rows and columns (2pts)"
      ]
    },
    {
      "cell_type": "code",
      "execution_count": null,
      "metadata": {
        "colab": {
          "base_uri": "https://localhost:8080/"
        },
        "id": "g2t_PmY4VMac",
        "outputId": "d03d32fb-6ad2-48b5-fe19-220683e313e1"
      },
      "outputs": [
        {
          "output_type": "stream",
          "name": "stdout",
          "text": [
            "Drive already mounted at /content/drive; to attempt to forcibly remount, call drive.mount(\"/content/drive\", force_remount=True).\n",
            "6497 rows, 13 columns\n"
          ]
        }
      ],
      "source": [
        "from google.colab import drive\n",
        "drive.mount('/content/drive')\n",
        "file_name = '/content/drive/My Drive/Wine_Quality_Data.csv'\n",
        "with open(file_name, 'r') as file:\n",
        "    df = pd.read_csv(file);\n",
        "\n",
        "print(str(df.shape[0]) + \" rows, \" + str(df.shape[1]) + \" columns\")"
      ]
    },
    {
      "cell_type": "markdown",
      "metadata": {
        "id": "5PdU4CMIVMad"
      },
      "source": [
        "### 1.3 Show if any column has null values. (1pt)"
      ]
    },
    {
      "cell_type": "code",
      "execution_count": null,
      "metadata": {
        "colab": {
          "base_uri": "https://localhost:8080/"
        },
        "id": "g0sWFVuNVMad",
        "outputId": "211ca361-6f74-4a44-a9f4-84e6904d99f1"
      },
      "outputs": [
        {
          "output_type": "stream",
          "name": "stdout",
          "text": [
            "True if there is a null value, false if there is no null value\n",
            "\n",
            "fixed_acidity           False\n",
            "volatile_acidity        False\n",
            "citric_acid             False\n",
            "residual_sugar          False\n",
            "chlorides               False\n",
            "free_sulfur_dioxide     False\n",
            "total_sulfur_dioxide    False\n",
            "density                 False\n",
            "pH                      False\n",
            "sulphates               False\n",
            "alcohol                 False\n",
            "quality                 False\n",
            "color                   False\n",
            "dtype: bool\n"
          ]
        }
      ],
      "source": [
        "print(\"True if there is a null value, false if there is no null value\\n\")\n",
        "print(df.isnull().any())"
      ]
    },
    {
      "cell_type": "markdown",
      "metadata": {
        "id": "Voaokb-kVMad"
      },
      "source": [
        "### 1.4 We will use the 'quality' column as our target label. Print the count of each label in the dataset (in percentage). Mention which quality scores are among top 3 by their counts. (3pts)"
      ]
    },
    {
      "cell_type": "code",
      "execution_count": null,
      "metadata": {
        "colab": {
          "base_uri": "https://localhost:8080/"
        },
        "id": "bVt4eVYsVMad",
        "outputId": "a0998805-d382-4c13-d77a-1d69aed082e1"
      },
      "outputs": [
        {
          "output_type": "stream",
          "name": "stdout",
          "text": [
            "6    0.436509\n",
            "5    0.329075\n",
            "7    0.166077\n",
            "4    0.033246\n",
            "8    0.029706\n",
            "3    0.004618\n",
            "9    0.000770\n",
            "Name: quality, dtype: float64\n",
            "\n",
            "Top 3 most common quality scores are 6, 5, and 7.\n"
          ]
        }
      ],
      "source": [
        "print(df['quality'].value_counts(normalize=True))\n",
        "print(\"\\nTop 3 most common quality scores are 6, 5, and 7.\")"
      ]
    },
    {
      "cell_type": "markdown",
      "metadata": {
        "id": "kngNv5lzVMad"
      },
      "source": [
        "### 1.5 Observe the correlation matrix for the columns. Name the pairs of columns with highest positive and highest negative correlations. (2+4 = 6pts) "
      ]
    },
    {
      "cell_type": "markdown",
      "metadata": {
        "id": "TX7gn7zyVMad"
      },
      "source": [
        "You can import and use seaborn here to visualize correlation matrix in a heatmap."
      ]
    },
    {
      "cell_type": "code",
      "execution_count": null,
      "metadata": {
        "colab": {
          "base_uri": "https://localhost:8080/",
          "height": 1000
        },
        "id": "pR8UU3PPVMae",
        "outputId": "5784b38d-d109-4130-fd8f-ac3dcdfa90fc"
      },
      "outputs": [
        {
          "output_type": "stream",
          "name": "stdout",
          "text": [
            "The 'color' attribute has strings so I am converting them to 0 and 1 for the heatmap to work. 0 is red and 1 is white.\n",
            "                      fixed_acidity  volatile_acidity  citric_acid  \\\n",
            "fixed_acidity              1.000000          0.219008     0.324436   \n",
            "volatile_acidity           0.219008          1.000000    -0.377981   \n",
            "citric_acid                0.324436         -0.377981     1.000000   \n",
            "residual_sugar            -0.111981         -0.196011     0.142451   \n",
            "chlorides                  0.298195          0.377124     0.038998   \n",
            "free_sulfur_dioxide       -0.282735         -0.352557     0.133126   \n",
            "total_sulfur_dioxide      -0.329054         -0.414476     0.195242   \n",
            "density                    0.458910          0.271296     0.096154   \n",
            "pH                        -0.252700          0.261454    -0.329808   \n",
            "sulphates                  0.299568          0.225984     0.056197   \n",
            "alcohol                   -0.095452         -0.037640    -0.010493   \n",
            "quality                   -0.076743         -0.265699     0.085532   \n",
            "color                     -0.486740         -0.653036     0.187397   \n",
            "\n",
            "                      residual_sugar  chlorides  free_sulfur_dioxide  \\\n",
            "fixed_acidity              -0.111981   0.298195            -0.282735   \n",
            "volatile_acidity           -0.196011   0.377124            -0.352557   \n",
            "citric_acid                 0.142451   0.038998             0.133126   \n",
            "residual_sugar              1.000000  -0.128940             0.402871   \n",
            "chlorides                  -0.128940   1.000000            -0.195045   \n",
            "free_sulfur_dioxide         0.402871  -0.195045             1.000000   \n",
            "total_sulfur_dioxide        0.495482  -0.279630             0.720934   \n",
            "density                     0.552517   0.362615             0.025717   \n",
            "pH                         -0.267320   0.044708            -0.145854   \n",
            "sulphates                  -0.185927   0.395593            -0.188457   \n",
            "alcohol                    -0.359415  -0.256916            -0.179838   \n",
            "quality                    -0.036980  -0.200666             0.055463   \n",
            "color                       0.348821  -0.512678             0.471644   \n",
            "\n",
            "                      total_sulfur_dioxide   density        pH  sulphates  \\\n",
            "fixed_acidity                    -0.329054  0.458910 -0.252700   0.299568   \n",
            "volatile_acidity                 -0.414476  0.271296  0.261454   0.225984   \n",
            "citric_acid                       0.195242  0.096154 -0.329808   0.056197   \n",
            "residual_sugar                    0.495482  0.552517 -0.267320  -0.185927   \n",
            "chlorides                        -0.279630  0.362615  0.044708   0.395593   \n",
            "free_sulfur_dioxide               0.720934  0.025717 -0.145854  -0.188457   \n",
            "total_sulfur_dioxide              1.000000  0.032395 -0.238413  -0.275727   \n",
            "density                           0.032395  1.000000  0.011686   0.259478   \n",
            "pH                               -0.238413  0.011686  1.000000   0.192123   \n",
            "sulphates                        -0.275727  0.259478  0.192123   1.000000   \n",
            "alcohol                          -0.265740 -0.686745  0.121248  -0.003029   \n",
            "quality                          -0.041385 -0.305858  0.019506   0.038485   \n",
            "color                             0.700357 -0.390645 -0.329129  -0.487218   \n",
            "\n",
            "                       alcohol   quality     color  \n",
            "fixed_acidity        -0.095452 -0.076743 -0.486740  \n",
            "volatile_acidity     -0.037640 -0.265699 -0.653036  \n",
            "citric_acid          -0.010493  0.085532  0.187397  \n",
            "residual_sugar       -0.359415 -0.036980  0.348821  \n",
            "chlorides            -0.256916 -0.200666 -0.512678  \n",
            "free_sulfur_dioxide  -0.179838  0.055463  0.471644  \n",
            "total_sulfur_dioxide -0.265740 -0.041385  0.700357  \n",
            "density              -0.686745 -0.305858 -0.390645  \n",
            "pH                    0.121248  0.019506 -0.329129  \n",
            "sulphates            -0.003029  0.038485 -0.487218  \n",
            "alcohol               1.000000  0.444319  0.032970  \n",
            "quality               0.444319  1.000000  0.119323  \n",
            "color                 0.032970  0.119323  1.000000  \n",
            "total_sulfur_dioxide and free_sulfur_dioxide have the highest positive correlation at 0.7209, alcohol and density have the highest negative correlation at -0.6867\n"
          ]
        },
        {
          "output_type": "display_data",
          "data": {
            "text/plain": [
              "<Figure size 640x480 with 2 Axes>"
            ],
            "image/png": "[encoded data removed]"
          },
          "metadata": {}
        }
      ],
      "source": [
        "import seaborn as sns\n",
        "print(\"The 'color' attribute has strings so I am converting them to 0 and 1 for the heatmap to work. 0 is red and 1 is white.\")\n",
        "\n",
        "from sklearn.preprocessing import LabelEncoder\n",
        "le = LabelEncoder()\n",
        "df[\"color\"] = le.fit_transform(df[\"color\"])\n",
        "\n",
        "corr = df.corr()\n",
        "sns.heatmap(corr)\n",
        "print(corr)\n",
        "\n",
        "print(\"total_sulfur_dioxide and free_sulfur_dioxide have the highest positive correlation at 0.7209, alcohol and density have the highest negative correlation at -0.6867\")"
      ]
    },
    {
      "cell_type": "markdown",
      "metadata": {
        "id": "RzxidHWOVMae"
      },
      "source": [
        "## 2. Feature Selection and Preprocessing (2+2+3+3 = 10pts)"
      ]
    },
    {
      "cell_type": "markdown",
      "metadata": {
        "id": "3JjEw8_zVMae"
      },
      "source": [
        "### 2.1 Drop the 'color' attribute from the dataframe. (2pts)"
      ]
    },
    {
      "cell_type": "code",
      "execution_count": null,
      "metadata": {
        "colab": {
          "base_uri": "https://localhost:8080/"
        },
        "id": "4RIGCsSDVMae",
        "outputId": "d8b306b0-fd3c-4b6e-d54d-7023b0fa7ef3"
      },
      "outputs": [
        {
          "output_type": "stream",
          "name": "stdout",
          "text": [
            "      fixed_acidity  volatile_acidity  citric_acid  residual_sugar  chlorides  \\\n",
            "0               7.4              0.70         0.00             1.9      0.076   \n",
            "1               7.8              0.88         0.00             2.6      0.098   \n",
            "2               7.8              0.76         0.04             2.3      0.092   \n",
            "3              11.2              0.28         0.56             1.9      0.075   \n",
            "4               7.4              0.70         0.00             1.9      0.076   \n",
            "...             ...               ...          ...             ...        ...   \n",
            "6492            6.2              0.21         0.29             1.6      0.039   \n",
            "6493            6.6              0.32         0.36             8.0      0.047   \n",
            "6494            6.5              0.24         0.19             1.2      0.041   \n",
            "6495            5.5              0.29         0.30             1.1      0.022   \n",
            "6496            6.0              0.21         0.38             0.8      0.020   \n",
            "\n",
            "      free_sulfur_dioxide  total_sulfur_dioxide  density    pH  sulphates  \\\n",
            "0                    11.0                  34.0  0.99780  3.51       0.56   \n",
            "1                    25.0                  67.0  0.99680  3.20       0.68   \n",
            "2                    15.0                  54.0  0.99700  3.26       0.65   \n",
            "3                    17.0                  60.0  0.99800  3.16       0.58   \n",
            "4                    11.0                  34.0  0.99780  3.51       0.56   \n",
            "...                   ...                   ...      ...   ...        ...   \n",
            "6492                 24.0                  92.0  0.99114  3.27       0.50   \n",
            "6493                 57.0                 168.0  0.99490  3.15       0.46   \n",
            "6494                 30.0                 111.0  0.99254  2.99       0.46   \n",
            "6495                 20.0                 110.0  0.98869  3.34       0.38   \n",
            "6496                 22.0                  98.0  0.98941  3.26       0.32   \n",
            "\n",
            "      alcohol  quality  \n",
            "0         9.4        5  \n",
            "1         9.8        5  \n",
            "2         9.8        5  \n",
            "3         9.8        6  \n",
            "4         9.4        5  \n",
            "...       ...      ...  \n",
            "6492     11.2        6  \n",
            "6493      9.6        5  \n",
            "6494      9.4        6  \n",
            "6495     12.8        7  \n",
            "6496     11.8        6  \n",
            "\n",
            "[6497 rows x 12 columns]\n"
          ]
        }
      ],
      "source": [
        "df.drop([\"color\"], axis=1, inplace=True)\n",
        "print(df)"
      ]
    },
    {
      "cell_type": "markdown",
      "metadata": {
        "id": "ggWB5KfSVMae"
      },
      "source": [
        "### 2.2 Assign the 'quality' column to target label y, and all other columns to attribute matrix X (1+1 = 2pts)"
      ]
    },
    {
      "cell_type": "code",
      "execution_count": null,
      "metadata": {
        "colab": {
          "base_uri": "https://localhost:8080/"
        },
        "id": "NAm2XNJ-VMaf",
        "outputId": "83574433-b0aa-4e91-925e-37dd058eb718"
      },
      "outputs": [
        {
          "output_type": "stream",
          "name": "stdout",
          "text": [
            "      fixed_acidity  volatile_acidity  citric_acid  residual_sugar  chlorides  \\\n",
            "0               7.4              0.70         0.00             1.9      0.076   \n",
            "1               7.8              0.88         0.00             2.6      0.098   \n",
            "2               7.8              0.76         0.04             2.3      0.092   \n",
            "3              11.2              0.28         0.56             1.9      0.075   \n",
            "4               7.4              0.70         0.00             1.9      0.076   \n",
            "...             ...               ...          ...             ...        ...   \n",
            "6492            6.2              0.21         0.29             1.6      0.039   \n",
            "6493            6.6              0.32         0.36             8.0      0.047   \n",
            "6494            6.5              0.24         0.19             1.2      0.041   \n",
            "6495            5.5              0.29         0.30             1.1      0.022   \n",
            "6496            6.0              0.21         0.38             0.8      0.020   \n",
            "\n",
            "      free_sulfur_dioxide  total_sulfur_dioxide  density    pH  sulphates  \\\n",
            "0                    11.0                  34.0  0.99780  3.51       0.56   \n",
            "1                    25.0                  67.0  0.99680  3.20       0.68   \n",
            "2                    15.0                  54.0  0.99700  3.26       0.65   \n",
            "3                    17.0                  60.0  0.99800  3.16       0.58   \n",
            "4                    11.0                  34.0  0.99780  3.51       0.56   \n",
            "...                   ...                   ...      ...   ...        ...   \n",
            "6492                 24.0                  92.0  0.99114  3.27       0.50   \n",
            "6493                 57.0                 168.0  0.99490  3.15       0.46   \n",
            "6494                 30.0                 111.0  0.99254  2.99       0.46   \n",
            "6495                 20.0                 110.0  0.98869  3.34       0.38   \n",
            "6496                 22.0                  98.0  0.98941  3.26       0.32   \n",
            "\n",
            "      alcohol  \n",
            "0         9.4  \n",
            "1         9.8  \n",
            "2         9.8  \n",
            "3         9.8  \n",
            "4         9.4  \n",
            "...       ...  \n",
            "6492     11.2  \n",
            "6493      9.6  \n",
            "6494      9.4  \n",
            "6495     12.8  \n",
            "6496     11.8  \n",
            "\n",
            "[6497 rows x 11 columns]\n",
            "0       5\n",
            "1       5\n",
            "2       5\n",
            "3       6\n",
            "4       5\n",
            "       ..\n",
            "6492    6\n",
            "6493    5\n",
            "6494    6\n",
            "6495    7\n",
            "6496    6\n",
            "Name: quality, Length: 6497, dtype: int64\n"
          ]
        }
      ],
      "source": [
        "X = df[[\"fixed_acidity\", \"volatile_acidity\", \"citric_acid\", \"residual_sugar\", \"chlorides\", \"free_sulfur_dioxide\", \"total_sulfur_dioxide\", \"density\", \"pH\", \"sulphates\", \"alcohol\"]].copy()\n",
        "Y = df[\"quality\"].copy()\n",
        "print(X)\n",
        "print(Y)"
      ]
    },
    {
      "cell_type": "markdown",
      "metadata": {
        "id": "ezD1H0R5VMaf"
      },
      "source": [
        "### 2.3 Use scikitlearn's Standard Scaler to scale the feature matrix X. (3pts)"
      ]
    },
    {
      "cell_type": "code",
      "execution_count": null,
      "metadata": {
        "colab": {
          "base_uri": "https://localhost:8080/"
        },
        "id": "cVyUK4I2VMaf",
        "outputId": "20ef9b39-5724-47d4-ab11-ca7ccdf2d065"
      },
      "outputs": [
        {
          "output_type": "stream",
          "name": "stdout",
          "text": [
            "      fixed_acidity  volatile_acidity  citric_acid  residual_sugar  chlorides  \\\n",
            "0          0.142473          2.188833    -2.192833       -0.744778   0.569958   \n",
            "1          0.451036          3.282235    -2.192833       -0.597640   1.197975   \n",
            "2          0.451036          2.553300    -1.917553       -0.660699   1.026697   \n",
            "3          3.073817         -0.362438     1.661085       -0.744778   0.541412   \n",
            "4          0.142473          2.188833    -2.192833       -0.744778   0.569958   \n",
            "...             ...               ...          ...             ...        ...   \n",
            "6492      -0.783214         -0.787650    -0.197054       -0.807837  -0.486252   \n",
            "6493      -0.474652         -0.119460     0.284686        0.537425  -0.257883   \n",
            "6494      -0.551792         -0.605417    -0.885253       -0.891916  -0.429160   \n",
            "6495      -1.323198         -0.301694    -0.128234       -0.912936  -0.971538   \n",
            "6496      -0.937495         -0.787650     0.422326       -0.975995  -1.028631   \n",
            "\n",
            "      free_sulfur_dioxide  total_sulfur_dioxide   density        pH  \\\n",
            "0               -1.100140             -1.446359  1.034993  1.813090   \n",
            "1               -0.311320             -0.862469  0.701486 -0.115073   \n",
            "2               -0.874763             -1.092486  0.768188  0.258120   \n",
            "3               -0.762074             -0.986324  1.101694 -0.363868   \n",
            "4               -1.100140             -1.446359  1.034993  1.813090   \n",
            "...                   ...                   ...       ...       ...   \n",
            "6492            -0.367664             -0.420128 -1.186161  0.320319   \n",
            "6493             1.491697              0.924588  0.067824 -0.426067   \n",
            "6494            -0.029599             -0.083949 -0.719251 -1.421248   \n",
            "6495            -0.593041             -0.101642 -2.003251  0.755710   \n",
            "6496            -0.480353             -0.313966 -1.763127  0.258120   \n",
            "\n",
            "      sulphates   alcohol  \n",
            "0      0.193097 -0.915464  \n",
            "1      0.999579 -0.580068  \n",
            "2      0.797958 -0.580068  \n",
            "3      0.327510 -0.580068  \n",
            "4      0.193097 -0.915464  \n",
            "...         ...       ...  \n",
            "6492  -0.210144  0.593818  \n",
            "6493  -0.478971 -0.747766  \n",
            "6494  -0.478971 -0.915464  \n",
            "6495  -1.016626  1.935402  \n",
            "6496  -1.419867  1.096912  \n",
            "\n",
            "[6497 rows x 11 columns]\n",
            "We can see that X has how been scaled.\n"
          ]
        }
      ],
      "source": [
        "import sklearn.preprocessing as preprocessing\n",
        "\n",
        "columns = [\"fixed_acidity\", \"volatile_acidity\", \"citric_acid\", \"residual_sugar\", \"chlorides\", \"free_sulfur_dioxide\", \"total_sulfur_dioxide\", \"density\", \"pH\", \"sulphates\", \"alcohol\"]\n",
        "stdscl = preprocessing.StandardScaler()\n",
        "X[columns] = stdscl.fit_transform(X[columns])\n",
        "print(X)\n",
        "print(\"We can see that X has how been scaled.\")"
      ]
    },
    {
      "cell_type": "markdown",
      "metadata": {
        "id": "oVWXcVc-VMaf"
      },
      "source": [
        "### 2.4 Split Dataset into Training and Test set. (3 pts)\n",
        "Use 80:20 split for training and test. Also use stratified sampling to ensure balanced dataset."
      ]
    },
    {
      "cell_type": "code",
      "execution_count": null,
      "metadata": {
        "id": "_EGIdj7fVMaf"
      },
      "outputs": [],
      "source": [
        "from sklearn.model_selection import train_test_split\n",
        "\n",
        "x_train, x_test, y_train, y_test = train_test_split(X, Y, test_size=0.2, random_state=69, stratify=Y)"
      ]
    },
    {
      "cell_type": "markdown",
      "metadata": {
        "id": "-ODKFrjrVMag"
      },
      "source": [
        "## 3. Logistic Regression from scratch (10+10+10+25+20 = 75pts)\n"
      ]
    },
    {
      "cell_type": "markdown",
      "metadata": {
        "id": "MN4j2REjVMag"
      },
      "source": [
        "In this section, you will write a logistic regression algorithm from scratch using python and numpy. You will first write some helper functions for transforming label encoding to one-hot encoding, for measuring the cross-entropy loss and predicting labels from test data. These functions will later be used in the logistic regression training and testing.   "
      ]
    },
    {
      "cell_type": "markdown",
      "metadata": {
        "id": "h615BuDHVMag"
      },
      "source": [
        "### 3.1 The target label in our dataset is the 'quality' column. It consists of categorical values, label-encoded with 7 values in the range [3-9]. To perform a multiclass logistic regression, you need a function that takes a label matrix and converts it to One-hot encoded labels. (10pts)\n",
        "\n",
        "Write the function below following the docstring. "
      ]
    },
    {
      "cell_type": "code",
      "execution_count": null,
      "metadata": {
        "id": "sSj7WYxdVMag"
      },
      "outputs": [],
      "source": [
        "def onehot(y):\n",
        "    \"\"\"\n",
        "    Converts an array of labels to one-hot encoding.\n",
        "\n",
        "    Parameters:\n",
        "    -----------\n",
        "    y : numpy.ndarray\n",
        "        An array of labels. It must have a shape of (n_samples, ).\n",
        "\n",
        "    Returns:\n",
        "    --------\n",
        "    numpy.ndarray\n",
        "        A matrix of one-hot encoding. It has a shape of (n_samples, n_classes).\n",
        "    \"\"\"\n",
        "    onehot_labels = np.zeros((y.size, y.max()+1), dtype=int)\n",
        "    onehot_labels[np.arange(y.size), y] = 1\n",
        "\n",
        "    return onehot_labels"
      ]
    },
    {
      "cell_type": "markdown",
      "metadata": {
        "id": "p1YcRCOCVMag"
      },
      "source": [
        "### 3.2 For multi-class classification, you also need to measure cross-entropy loss. Cross-entropy loss is measured by the following formula:\n",
        "$\\text{Cross-Entropy Loss} = -\\frac{1}{N} \\sum_{i=1}^N \\sum_{j=1}^n y_{ij} \\log \\hat{y}_{ij}$\n",
        "\n",
        "Write a function that takes two matrices: one matrix of true labels $y_{ij}$, and one matrix of the predicted labels by your model $\\hat{y}_{ij}$ (you are about to write the model function soon below), and returns the computed loss. **(10pts)**\n"
      ]
    },
    {
      "cell_type": "code",
      "execution_count": null,
      "metadata": {
        "id": "GZcrEC9bVMah"
      },
      "outputs": [],
      "source": [
        "def cross_entropy_loss(y_true, y_pred):\n",
        "    \"\"\"\n",
        "    Computes the cross-entropy loss between the true labels and predicted labels.\n",
        "\n",
        "    Parameters\n",
        "    ----------\n",
        "    y_true : numpy array\n",
        "        Array of true labels with shape (m, n_classes).\n",
        "    y_pred : numpy array\n",
        "        Array of predicted labels with shape (m, n_classes).\n",
        "\n",
        "    Returns\n",
        "    -------\n",
        "    float\n",
        "        Cross-entropy loss between y_true and y_pred.\n",
        "\n",
        "    Notes\n",
        "    -----\n",
        "    This function assumes that the labels are one-hot encoded.\n",
        "    \"\"\"\n",
        "    m = y_true.shape[0] # This is N in the summation\n",
        "    n_classes = y_true.shape[1] # This is n in the summation\n",
        "\n",
        "    sum = 0;\n",
        "    for i in range(m):\n",
        "      for j in range(n_classes):\n",
        "        sum += y_true[i][j] * np.log(y_pred[i][j])\n",
        "    \n",
        "    sum *= (-1 / m)\n",
        "    return sum\n",
        "\n",
        "    \n",
        "    # TODO"
      ]
    },
    {
      "cell_type": "markdown",
      "metadata": {
        "id": "2DBYf95FVMah"
      },
      "source": [
        "### 3.3 Write a function for softmax activation to compute probabilities from the linear score $z_i$. Softmax function uses the following formula:\n",
        "$$\\sigma(z_i) = \\frac{e^{z_i}}{\\sum_{j=1}^{k}e^{z_j}} , \\text{for } i=1,2,3,...,k $$\n",
        "where $z_i$ is the linear layer score for i-th input.   \n",
        "\n",
        "**(10pts)**"
      ]
    },
    {
      "cell_type": "code",
      "execution_count": null,
      "metadata": {
        "id": "O7uefg8bVMah"
      },
      "outputs": [],
      "source": [
        "def softmax(scores):\n",
        "    \"\"\"\n",
        "    Compute the softmax of the given scores.\n",
        "\n",
        "    Parameters:\n",
        "    -----------\n",
        "    scores : numpy.ndarray\n",
        "        A 2D numpy array of shape (m, n), where m is the number of samples and n is the number of classes.\n",
        "\n",
        "    Returns:\n",
        "    --------\n",
        "    probs : numpy.ndarray\n",
        "        A 2D numpy array of shape (m, n) containing the probabilities of each sample belonging to each class.\n",
        "    \"\"\"\n",
        "    e_scores = np.exp(scores)\n",
        "    sum_e_scores = np.sum(e_scores, axis=1, keepdims=True)\n",
        "    probs = e_scores / sum_e_scores\n",
        "\n",
        "    return probs\n",
        "\n",
        "    #There are K samples.\n",
        "    #The i-th sample's probability has e^[the ith score] in the numerator\n",
        "    #The denominator is the sum J from 1 to k of e^[the jth score]\n",
        "\n"
      ]
    },
    {
      "cell_type": "markdown",
      "metadata": {
        "id": "gtYbgy3sVMah"
      },
      "source": [
        "### 3.4 Model development (20+5 = 25pts)"
      ]
    },
    {
      "cell_type": "markdown",
      "metadata": {
        "id": "7uYa-bIYVMah"
      },
      "source": [
        "**3.4.1** Write a function for the logistic regression algorithm. You will use the functions you have written above in this module. Recall that with gradient descent optimization, the computation loop goes as:\n",
        "For each epoch:\n",
        "1. Compute $scores = X_{train} W + b$ \n",
        "2. Compute probability = softmax(scores)\n",
        "3. Compute Cross-entropy Loss\n",
        "4. Compute gradients of the loss with respect to the weights and bias.\n",
        "\n",
        "    Partial derivative of Loss with respect to Weight matrix:\n",
        "    $$\\frac{\\partial L}{\\partial W} = -\\frac{1}{m} X^T \\left(y - \\hat{y}\\right)$$\n",
        "\n",
        "    Partial derivative of Loss with respect to Bias matrix:\n",
        "    $$\\frac{\\partial L}{\\partial b_j} = -\\frac{1}{m} \\sum_{i=1}^m \\left(y_{ij} - p_{ij}\\right) $$\n",
        "\n",
        "5. Update the weights and biases\n",
        "    $$ W = W - (learning\\ rate * weight\\ gradient)  $$\n",
        "    $$ b = b - (learning\\ rate * weight\\ gradient)  $$\n",
        "\n",
        "**(20pts)**"
      ]
    },
    {
      "cell_type": "code",
      "execution_count": null,
      "metadata": {
        "id": "j2f2h-D0VMai"
      },
      "outputs": [],
      "source": [
        "def logistic_regression(X_train, y_train, ):\n",
        "    \"\"\"\n",
        "    Performs logistic regression using softmax activation and gradient descent optimizer to classify the input data.\n",
        "\n",
        "    Parameters:\n",
        "    -----------\n",
        "    X_train : numpy.ndarray\n",
        "        The input training data of shape (num_samples, num_features).\n",
        "    y_train : numpy.ndarray\n",
        "        The training labels of shape (num_samples,).\n",
        "\n",
        "    Returns:\n",
        "    --------\n",
        "    W : numpy.ndarray\n",
        "        The learned weights of shape (num_features, num_classes).\n",
        "    b : numpy.ndarray\n",
        "        The learned bias of shape (1, num_classes).\n",
        "    loss_list : list\n",
        "        The list of loss values at each epoch during training.\n",
        "    \"\"\"\n",
        "\n",
        "    # get the number of samples and features from X_train (2pts)\n",
        "    num_samples = X_train.shape[0]\n",
        "    num_features = X_train.shape[1]\n",
        "    \n",
        "    # convert training labels to one-hot encoded labels (2pts)\n",
        "    y_onehot = onehot(y_train)\n",
        "\n",
        "    # get the number of target classes from y_train (2pts)\n",
        "    num_classes = y_onehot.shape[1]\n",
        "\n",
        "    # initialize the weights and bias with numpy arrays of zeros (1+1 = 2pts)\n",
        "    W = np.zeros((num_features, num_classes))\n",
        "    b = np.zeros((1, num_classes))\n",
        "\n",
        "    # set hyperparameters (1+1 = 2pts)\n",
        "    ## set a learning rate\n",
        "    LR = 0.05\n",
        "    ## set the max number of epochs you want to train for\n",
        "    epochs = 1000\n",
        "    \n",
        "    ## initialize a list to store the loss values (1pt)\n",
        "    loss_list = []\n",
        "    \n",
        "    '''\n",
        "    Write a for loop over epochs.\n",
        "    In each epoch:\n",
        "        compute the score for each class, \n",
        "        compute the softmax probabilities, \n",
        "        compute the cross-entropy loss, \n",
        "        compute the gradients of the loss with respect to the weights and bias, \n",
        "        update the weights and bias using the gradients and the learning rate.\n",
        "    '''\n",
        "    print(\"TEST\")\n",
        "    # (9pts)\n",
        "    for i in range(epochs):\n",
        "        # compute the score (Z) for each class. \n",
        "        Z = np.dot(X_train, W) + b\n",
        "        \n",
        "        # calculate the softmax probabilities\n",
        "        probability = softmax(Z)\n",
        "\n",
        "        # compute the cross-entropy loss\n",
        "        loss = cross_entropy_loss(y_onehot, probability)\n",
        "        loss_list.append(loss)\n",
        "\n",
        "        # compute the gradients of the loss with respect to the weights and bias\n",
        "        dw = (1/num_samples) * np.dot(X_train.T, (probability - y_onehot))\n",
        "        db = (1/num_samples) * np.sum(probability - y_onehot, axis=0, keepdims=True)\n",
        "        \n",
        "        # update the weights and bias using the gradients and the learning rate\n",
        "        W -= LR*dw\n",
        "        b -= LR*db\n",
        "\n",
        "        # For tracking progress, print the loss every 100 epochs\n",
        "        if(i % 100 == 0):\n",
        "          print(\"Loss at \" + str(i) + \" is \" + str(loss))\n",
        "\n",
        "    return W, b, loss_list"
      ]
    },
    {
      "cell_type": "markdown",
      "metadata": {
        "id": "W4ijb_fsVMai"
      },
      "source": [
        "**3.4.2** Now that you have the model and the helper function, train the model with your prepared training dataset. Then plot the training loss curve. **(5pts)**"
      ]
    },
    {
      "cell_type": "code",
      "execution_count": null,
      "metadata": {
        "id": "UMoT9aePVMaj",
        "colab": {
          "base_uri": "https://localhost:8080/",
          "height": 651
        },
        "outputId": "dde58280-5de3-4998-fe9c-35f9a9bb37dd"
      },
      "outputs": [
        {
          "output_type": "stream",
          "name": "stdout",
          "text": [
            "TEST\n",
            "Loss at 0 is 2.3025850929939637\n",
            "Loss at 100 is 1.4634916533567854\n",
            "Loss at 200 is 1.2777718250710863\n",
            "Loss at 300 is 1.2102516961347594\n",
            "Loss at 400 is 1.1760420933409583\n",
            "Loss at 500 is 1.1552143821208172\n",
            "Loss at 600 is 1.141102482680263\n",
            "Loss at 700 is 1.1308531421154078\n",
            "Loss at 800 is 1.1230329699557735\n",
            "Loss at 900 is 1.1168424033617594\n"
          ]
        },
        {
          "output_type": "execute_result",
          "data": {
            "text/plain": [
              "[<matplotlib.lines.Line2D at 0x7fe23fe78190>]"
            ]
          },
          "metadata": {},
          "execution_count": 102
        },
        {
          "output_type": "display_data",
          "data": {
            "text/plain": [
              "<Figure size 640x480 with 1 Axes>"
            ],
            "image/png": "[encoded data removed]"
          },
          "metadata": {}
        }
      ],
      "source": [
        "# train the model\n",
        "W, b, loss_list = logistic_regression(x_train, y_train)\n",
        "\n",
        "# plot the loss curve\n",
        "plt.plot(loss_list)"
      ]
    },
    {
      "cell_type": "markdown",
      "metadata": {
        "id": "41c_qSQBVMaj"
      },
      "source": [
        "### 3.5 Evaluation (10+1+4+3+2 = 20pts)"
      ]
    },
    {
      "cell_type": "markdown",
      "metadata": {
        "id": "6B6Np7ekVMaj"
      },
      "source": [
        "Write a function to predict the labels of X_test using the model trained above and return the predicted labels as categorical values similar to train labels. **(10pts)**\n",
        "\n",
        "Note: By default, the predicted labels may return values within [0-6] instead of the original labels [3-9]. This can happen due to using argmax() to get label encoding from one-hot encoding when predicting test labels. You can add a simple offset to the argmax outputs of predicted labels to shift them to the range of [3-9]. This is important to note as you may see a very low accuracy even with a good model if true labels and predicted labels are not associated with the same categorical scale. "
      ]
    },
    {
      "cell_type": "code",
      "execution_count": null,
      "metadata": {
        "id": "RFIjkkQGVMaj"
      },
      "outputs": [],
      "source": [
        "def predict(X_test, W, b):\n",
        "    '''\n",
        "    X_test: a numpy array of testing features\n",
        "    W: a numpy array of weights\n",
        "    b: a numpy array of bias\n",
        "    return: a numpy array of one-hot encoded labels\n",
        "    '''\n",
        "    # compute the scores\n",
        "    Z = np.dot(X_test, W) + b\n",
        "\n",
        "    # compute the probabilities\n",
        "    probability = softmax(Z)\n",
        "\n",
        "    # get the predicted labels\n",
        "    labels = np.argmax(probability, axis=1) \n",
        "\n",
        "    # return the predicted labels\n",
        "    return labels\n",
        "\n"
      ]
    },
    {
      "cell_type": "markdown",
      "metadata": {
        "id": "JZGF-Y7QVMaj"
      },
      "source": [
        "**3.5.1** import accuracy_score, confusion_matrix, precision_score, recall_score and f1_score from scikitlearn **(1pts)**"
      ]
    },
    {
      "cell_type": "code",
      "execution_count": null,
      "metadata": {
        "id": "_hCn-RLkVMaj"
      },
      "outputs": [],
      "source": [
        "from sklearn.metrics import accuracy_score, confusion_matrix, precision_score, recall_score, f1_score"
      ]
    },
    {
      "cell_type": "markdown",
      "metadata": {
        "id": "0yLfYF9tVMaj"
      },
      "source": [
        "**3.5.2** Print the prediction scores on test data in terms of accuracy, precision and recall score. **(4pts)**"
      ]
    },
    {
      "cell_type": "code",
      "execution_count": null,
      "metadata": {
        "id": "RaNpkQRLVMak",
        "colab": {
          "base_uri": "https://localhost:8080/"
        },
        "outputId": "eaaf86f1-b94a-4c80-8f8f-149113751e06"
      },
      "outputs": [
        {
          "output_type": "stream",
          "name": "stdout",
          "text": [
            "The accuracy score  is  0.536923076923077\n",
            "The precision score is  0.49832058290940606\n",
            "The recall score is  0.536923076923077\n"
          ]
        },
        {
          "output_type": "stream",
          "name": "stderr",
          "text": [
            "/usr/local/lib/python3.9/dist-packages/sklearn/metrics/_classification.py:1344: UndefinedMetricWarning: Precision is ill-defined and being set to 0.0 in labels with no predicted samples. Use `zero_division` parameter to control this behavior.\n",
            "  _warn_prf(average, modifier, msg_start, len(result))\n"
          ]
        }
      ],
      "source": [
        "y_test_pred = predict(x_test, W, b)\n",
        "print(\"The accuracy score  is \", accuracy_score(y_test, y_test_pred))\n",
        "print(\"The precision score is \", precision_score(y_test, y_test_pred, average='weighted'))\n",
        "print(\"The recall score is \", recall_score(y_test, y_test_pred, average='weighted'))"
      ]
    },
    {
      "cell_type": "markdown",
      "metadata": {
        "id": "_QTAUdX1VMak"
      },
      "source": [
        "**3.5.3** Generate and visualize the confusion matrix. You can use seaborn heatmap to visualize a heatmap of the confusion matrix. **(3pts)**"
      ]
    },
    {
      "cell_type": "code",
      "execution_count": null,
      "metadata": {
        "id": "AmqBaMWYVMak",
        "colab": {
          "base_uri": "https://localhost:8080/",
          "height": 486
        },
        "outputId": "af29443f-ef7d-4fc1-aaa1-69989726a595"
      },
      "outputs": [
        {
          "output_type": "execute_result",
          "data": {
            "text/plain": [
              "[Text(0.5, 23.52222222222222, 'Predicted Labels'),\n",
              " Text(50.722222222222214, 0.5, 'True Labels')]"
            ]
          },
          "metadata": {},
          "execution_count": 106
        },
        {
          "output_type": "display_data",
          "data": {
            "text/plain": [
              "<Figure size 640x480 with 2 Axes>"
            ],
            "image/png": "[encoded data removed]"
          },
          "metadata": {}
        }
      ],
      "source": [
        "s = sns.heatmap(confusion_matrix(y_test, y_test_pred), annot=True)\n",
        "s.set(xlabel='Predicted Labels', ylabel='True Labels')"
      ]
    },
    {
      "cell_type": "code",
      "source": [],
      "metadata": {
        "id": "GbSJox63bDxK"
      },
      "execution_count": null,
      "outputs": []
    },
    {
      "cell_type": "markdown",
      "metadata": {
        "id": "J60K_2ULVMak"
      },
      "source": [
        "**3.5.4** Which labels seem to be harder to classify for this model? **(2pts)**"
      ]
    },
    {
      "cell_type": "markdown",
      "metadata": {
        "id": "kUudEoDxVMak"
      },
      "source": [
        "It seems to me that it's harder for this model to predict 2's and 4's. There weren't very many true 0's, 1's, 5's, or 6's for the model to even have a chance at correctly identifying, but I noticed that it did tend towards lower predictions for the fewer true 0's and 1's. I don't think there are enough true 0/1/5/6 cases to really even bother analyzing here.\n",
        "\n",
        "It is also worth noting that while the model does well at correctly identifying true 3's, it often predicts true 2's as 3's and very frequently predicts true 4's as 3's. In fact, for true 4's, an incorrect 3 prediction is more likely than the model correctly predicting 4. In other words, the main issue is it's having some trouble telling a 2 or a 4 from a 3."
      ]
    },
    {
      "cell_type": "markdown",
      "metadata": {
        "id": "JpBU9FdtVMak"
      },
      "source": [
        "###"
      ]
    },
    {
      "cell_type": "markdown",
      "metadata": {
        "id": "6fhrS8IkVMak"
      },
      "source": [
        "## 4. Using Scikitlearn Logistic Regression (4+2+7+2 = 15pts)"
      ]
    },
    {
      "cell_type": "markdown",
      "metadata": {
        "id": "X39wwjdzVMak"
      },
      "source": [
        "### 4.1 Import LogisticRegressionCV module and create an instance of it. (4pts)\n",
        "Use the following parameters:\n",
        "1. 5-fold crossvalidation, \n",
        "2. lbfgs solver, \n",
        "3. run for 1000 iterations \n",
        "4. use 'multinomial' for choosing softmax classifier  "
      ]
    },
    {
      "cell_type": "code",
      "execution_count": null,
      "metadata": {
        "id": "4CMMwtfrVMak"
      },
      "outputs": [],
      "source": [
        "from sklearn.linear_model import LogisticRegressionCV\n",
        "\n",
        "clf = LogisticRegressionCV(cv=5, solver='lbfgs', max_iter=1000, multi_class='multinomial')"
      ]
    },
    {
      "cell_type": "markdown",
      "metadata": {
        "id": "wPjBInwTVMal"
      },
      "source": [
        "### 4.2 Train the model and predict the labels for test set. (2pts) "
      ]
    },
    {
      "cell_type": "code",
      "execution_count": null,
      "metadata": {
        "id": "U3qVUcYkVMal",
        "colab": {
          "base_uri": "https://localhost:8080/"
        },
        "outputId": "ead6077d-a14f-4b78-c8e3-f3f7eaca1a61"
      },
      "outputs": [
        {
          "output_type": "stream",
          "name": "stderr",
          "text": [
            "/usr/local/lib/python3.9/dist-packages/sklearn/model_selection/_split.py:700: UserWarning: The least populated class in y has only 4 members, which is less than n_splits=5.\n",
            "  warnings.warn(\n"
          ]
        }
      ],
      "source": [
        "clf.fit(x_train, y_train)\n",
        "y_test_pred_LRCV = clf.predict(x_test)"
      ]
    },
    {
      "cell_type": "markdown",
      "metadata": {
        "id": "ee29tgHUVMal"
      },
      "source": [
        "### 4.3 Compute the accuracy, precision, recall and F1 scores. Also visualize the confusion matrix. (1+1+1+1+3 =7pts) "
      ]
    },
    {
      "cell_type": "code",
      "execution_count": null,
      "metadata": {
        "id": "eBTwK8BNVMal",
        "colab": {
          "base_uri": "https://localhost:8080/",
          "height": 597
        },
        "outputId": "128154bb-bf78-454f-f017-fba8d2be063e"
      },
      "outputs": [
        {
          "output_type": "stream",
          "name": "stdout",
          "text": [
            "The accuracy score  is  0.5376923076923077\n",
            "The precision score is  0.5007148858553967\n",
            "The recall score is  0.5376923076923077\n",
            "The F1 score is  0.5065734162992797\n"
          ]
        },
        {
          "output_type": "stream",
          "name": "stderr",
          "text": [
            "/usr/local/lib/python3.9/dist-packages/sklearn/metrics/_classification.py:1344: UndefinedMetricWarning: Precision is ill-defined and being set to 0.0 in labels with no predicted samples. Use `zero_division` parameter to control this behavior.\n",
            "  _warn_prf(average, modifier, msg_start, len(result))\n"
          ]
        },
        {
          "output_type": "execute_result",
          "data": {
            "text/plain": [
              "[Text(0.5, 23.52222222222222, 'Predicted Labels'),\n",
              " Text(50.722222222222214, 0.5, 'True Labels')]"
            ]
          },
          "metadata": {},
          "execution_count": 109
        },
        {
          "output_type": "display_data",
          "data": {
            "text/plain": [
              "<Figure size 640x480 with 2 Axes>"
            ],
            "image/png": "[encoded data removed]"
          },
          "metadata": {}
        }
      ],
      "source": [
        "print(\"The accuracy score  is \", accuracy_score(y_test, y_test_pred_LRCV))\n",
        "print(\"The precision score is \", precision_score(y_test, y_test_pred_LRCV, average='weighted'))\n",
        "print(\"The recall score is \", recall_score(y_test, y_test_pred_LRCV, average='weighted'))\n",
        "print(\"The F1 score is \", f1_score(y_test, y_test_pred_LRCV, average='weighted'))\n",
        "\n",
        "s = sns.heatmap(confusion_matrix(y_test, y_test_pred_LRCV), annot=True)\n",
        "s.set(xlabel='Predicted Labels', ylabel='True Labels')"
      ]
    },
    {
      "cell_type": "markdown",
      "source": [],
      "metadata": {
        "id": "VvDoXQyteazG"
      }
    },
    {
      "cell_type": "markdown",
      "metadata": {
        "id": "kOuZhq0DVMal"
      },
      "source": [
        "### 4.4 Did your previous model (built from scratch) and the model from scikitlearn library produced similar evaluation scores? (2pts)\n",
        "\n",
        "Explain (in <100 words) the similarity and dissimilarity in score. What changed, what didn't, and why?"
      ]
    },
    {
      "cell_type": "markdown",
      "metadata": {
        "id": "J9YETTh2VMal"
      },
      "source": [
        "The scores produced by our own built-from-scratch model and scikitlearn's model were extremely similar. The premade scikitlearn model (\"LRCV\") had approximately 0.1% higher accuracy, 0.2% higher precision, and 0.1% higher recall. They're all very close to my homemade model. I would guess that, for such small differences, it could be something as simple as the random states, the way the data was split, or even how I coded up my model. I would have to think it's something very minor like that, though, and not an actual issue with how I created my homemade model from scratch."
      ]
    },
    {
      "cell_type": "markdown",
      "metadata": {
        "id": "qZ7cJIuWVMal"
      },
      "source": [
        "## 5. Using Scikitlearn Multi-layer Perceptron (16+19 = 35pts)"
      ]
    },
    {
      "cell_type": "markdown",
      "metadata": {
        "id": "gcNlX32mVMal"
      },
      "source": [
        "### 5.1 MLP with one hidden layer and stochastic gradient descent optimizer (4+2+1+7+2 = 16pts)"
      ]
    },
    {
      "cell_type": "markdown",
      "metadata": {
        "id": "_mA6ZLbHVMam"
      },
      "source": [
        "**5.1.1** Import MLPClassifier from scikitlearn's neural_network library. Then create a model instance of this classifier.\n",
        "\n",
        "Use the following parameters: \n",
        "1. One hidden layer with 100 neurons, \n",
        "2. ReLu activation, \n",
        "3. Stochastic Gradient Descent solver\n",
        "4. Learning rate = 0.01 (or you can continue to use your previous learning rate)\n",
        "5. No of epoch = 1000\n",
        "\n",
        "Also, set random_state to a fixed value so that your result is reproducible. **(4pts)** "
      ]
    },
    {
      "cell_type": "code",
      "execution_count": null,
      "metadata": {
        "id": "AAWnHzxaVMam"
      },
      "outputs": [],
      "source": [
        "from sklearn.neural_network import MLPClassifier\n",
        "\n",
        "MLP = MLPClassifier(hidden_layer_sizes=(100), activation='relu', solver='sgd', learning_rate = 'constant', learning_rate_init=0.01, max_iter=1000, random_state=28)\n",
        "# Note that I am using 0.01 for the learning rate this time. In my made-from-scratch model, I did 0.05. This should help create some differences in the scores."
      ]
    },
    {
      "cell_type": "markdown",
      "metadata": {
        "id": "4kl5aqCzVMam"
      },
      "source": [
        "**5.1.2** Train the model with training set.\n",
        "Then predict the labels for test set. **(2pts)**"
      ]
    },
    {
      "cell_type": "code",
      "execution_count": null,
      "metadata": {
        "id": "tKyZGZKvVMam"
      },
      "outputs": [],
      "source": [
        "MLP.fit(x_train, y_train)\n",
        "y_test_pred_MLP = clf.predict(x_test)"
      ]
    },
    {
      "cell_type": "markdown",
      "metadata": {
        "id": "TDf088h4VMam"
      },
      "source": [
        "**5.1.3** Plot the loss curve **(1pt)**"
      ]
    },
    {
      "cell_type": "code",
      "execution_count": null,
      "metadata": {
        "id": "dQBB2G3nVMam",
        "colab": {
          "base_uri": "https://localhost:8080/",
          "height": 448
        },
        "outputId": "6e7d2e9e-5ecf-456f-af34-8f70abfcc973"
      },
      "outputs": [
        {
          "output_type": "execute_result",
          "data": {
            "text/plain": [
              "[<matplotlib.lines.Line2D at 0x7fe23fcc1820>]"
            ]
          },
          "metadata": {},
          "execution_count": 112
        },
        {
          "output_type": "display_data",
          "data": {
            "text/plain": [
              "<Figure size 640x480 with 1 Axes>"
            ],
            "image/png": "[encoded data removed]"
          },
          "metadata": {}
        }
      ],
      "source": [
        "plt.plot(MLP.loss_curve_)"
      ]
    },
    {
      "cell_type": "markdown",
      "metadata": {
        "id": "rb6c5OPrVMam"
      },
      "source": [
        "**5.1.4** Print the accuracy, precision, recall and F1 scores. Also show the confusion matrix. **(1+1+1+1+3 = 7pts)**"
      ]
    },
    {
      "cell_type": "code",
      "execution_count": null,
      "metadata": {
        "id": "LqBX5xz1VMam",
        "colab": {
          "base_uri": "https://localhost:8080/",
          "height": 597
        },
        "outputId": "c9bb390f-b913-4b3a-81fd-26363c202754"
      },
      "outputs": [
        {
          "output_type": "stream",
          "name": "stdout",
          "text": [
            "The accuracy score  is  0.5376923076923077\n",
            "The precision score is  0.5007148858553967\n",
            "The recall score is  0.5376923076923077\n",
            "The F1 score is  0.5065734162992797\n"
          ]
        },
        {
          "output_type": "stream",
          "name": "stderr",
          "text": [
            "/usr/local/lib/python3.9/dist-packages/sklearn/metrics/_classification.py:1344: UndefinedMetricWarning: Precision is ill-defined and being set to 0.0 in labels with no predicted samples. Use `zero_division` parameter to control this behavior.\n",
            "  _warn_prf(average, modifier, msg_start, len(result))\n"
          ]
        },
        {
          "output_type": "execute_result",
          "data": {
            "text/plain": [
              "[Text(0.5, 23.52222222222222, 'Predicted Labels'),\n",
              " Text(50.722222222222214, 0.5, 'True Labels')]"
            ]
          },
          "metadata": {},
          "execution_count": 113
        },
        {
          "output_type": "display_data",
          "data": {
            "text/plain": [
              "<Figure size 640x480 with 2 Axes>"
            ],
            "image/png": "[encoded data removed]"
          },
          "metadata": {}
        }
      ],
      "source": [
        "print(\"The accuracy score  is \", accuracy_score(y_test, y_test_pred_MLP))\n",
        "print(\"The precision score is \", precision_score(y_test, y_test_pred_MLP, average='weighted'))\n",
        "print(\"The recall score is \", recall_score(y_test, y_test_pred_MLP, average='weighted'))\n",
        "print(\"The F1 score is \", f1_score(y_test, y_test_pred_MLP, average='weighted'))\n",
        "\n",
        "s = sns.heatmap(confusion_matrix(y_test, y_test_pred_MLP), annot=True)\n",
        "s.set(xlabel='Predicted Labels', ylabel='True Labels')"
      ]
    },
    {
      "cell_type": "markdown",
      "metadata": {
        "id": "qAL87msCVMan"
      },
      "source": [
        "**5.1.5** Did you see any change in scores after using the MLP classifier?\n",
        "\n",
        "In <100 words, describe your observation. **(2pts)**"
      ]
    },
    {
      "cell_type": "markdown",
      "metadata": {
        "id": "krz9o_bRVMan"
      },
      "source": [
        "I saw no change in any of the scores after using the MLP classifier. (I am hoping that the fact you're asking this question means I was supposed to get the same scores, haha)\n",
        "\n",
        "I was admittedly did not see this coming - I thought for sure using a different model would yield different scores. All of the numbers for the accuracy score, precision score, recall score, and F1 score are exactly the same - and I see no difference between the heatmaps. It appears they made the exact same predictions. This was certainly not what I was expecting!"
      ]
    },
    {
      "cell_type": "markdown",
      "metadata": {
        "id": "kij-ISKGVMan"
      },
      "source": [
        "### 5.2 MLP with two hidden layer and adam optimizer (4+2+1+7+2+3 = 19pts)"
      ]
    },
    {
      "cell_type": "markdown",
      "metadata": {
        "id": "8uizjjPMVMan"
      },
      "source": [
        "**5.2.1** Import MLPClassifier from scikitlearn's neural_network library. Then create a model instance of this classifier.\n",
        "\n",
        "Use the following parameters: \n",
        "1. **Two** hidden layers with 100 neurons, \n",
        "2. ReLu activation, \n",
        "3. Adam solver (this is an advanced optimizer which we did not cover in class. However the usage is quite straightforward)\n",
        "4. Learning rate = 0.01 (or you can continue to use your previous learning rate)\n",
        "5. No of epoch = 1000\n",
        "\n",
        "Also, set random_state to a fixed value so that your result is reproducible. **(4pts)** \n",
        "\n",
        "(Refer to the scikitlearn documentation for clarification on the parameters)"
      ]
    },
    {
      "cell_type": "code",
      "execution_count": null,
      "metadata": {
        "id": "HmS-IoFxVMan"
      },
      "outputs": [],
      "source": [
        "from sklearn.neural_network import MLPClassifier\n",
        "\n",
        "MLP2L = MLPClassifier(hidden_layer_sizes=(100, 100), activation='relu', solver='adam', learning_rate = 'constant', learning_rate_init=0.01, max_iter=1000, random_state=42)\n",
        "# I guess just nevermind what I said before about different learning rates. We'll see what happens now."
      ]
    },
    {
      "cell_type": "markdown",
      "metadata": {
        "id": "jYmrFg19VMan"
      },
      "source": [
        "**5.2.2** Train the model with training set.\n",
        "Then predict the labels for test set. **(2pts)**"
      ]
    },
    {
      "cell_type": "code",
      "execution_count": null,
      "metadata": {
        "id": "Aw0X7JoIVMan"
      },
      "outputs": [],
      "source": [
        "MLP2L.fit(x_train, y_train)\n",
        "y_test_pred_MLP2L = clf.predict(x_test)"
      ]
    },
    {
      "cell_type": "markdown",
      "metadata": {
        "id": "C6nX72dlVMan"
      },
      "source": [
        "**5.2.3** Plot the loss curve **(1pt)**"
      ]
    },
    {
      "cell_type": "code",
      "execution_count": null,
      "metadata": {
        "id": "4D-tqmOoVMan",
        "colab": {
          "base_uri": "https://localhost:8080/",
          "height": 448
        },
        "outputId": "c673c660-49fb-469c-92d3-052b29f14dad"
      },
      "outputs": [
        {
          "output_type": "execute_result",
          "data": {
            "text/plain": [
              "[<matplotlib.lines.Line2D at 0x7fe23fafbdc0>]"
            ]
          },
          "metadata": {},
          "execution_count": 116
        },
        {
          "output_type": "display_data",
          "data": {
            "text/plain": [
              "<Figure size 640x480 with 1 Axes>"
            ],
            "image/png": "[encoded data removed]"
          },
          "metadata": {}
        }
      ],
      "source": [
        "plt.plot(MLP2L.loss_curve_)\n",
        "\n",
        "# I notice the curve looks a little more.. erratic than before. I took some time to play with the loss values in the last section and noticed changing the loss value had an effect on how smooth the curve was. Interesting!"
      ]
    },
    {
      "cell_type": "markdown",
      "metadata": {
        "id": "8kKw0w0zVMao"
      },
      "source": [
        "**5.2.4** Print the accuracy, precision, recall and F1 scores. Also show the confusion matrix. **(1+1+1+1+3 = 7pts)**"
      ]
    },
    {
      "cell_type": "code",
      "execution_count": null,
      "metadata": {
        "id": "Raf9lZXJVMao",
        "colab": {
          "base_uri": "https://localhost:8080/",
          "height": 597
        },
        "outputId": "b9d9a2ff-5fae-4b41-c444-2e1963e68dac"
      },
      "outputs": [
        {
          "output_type": "stream",
          "name": "stdout",
          "text": [
            "The accuracy score  is  0.5376923076923077\n",
            "The precision score is  0.5007148858553967\n",
            "The recall score is  0.5376923076923077\n",
            "The F1 score is  0.5065734162992797\n"
          ]
        },
        {
          "output_type": "stream",
          "name": "stderr",
          "text": [
            "/usr/local/lib/python3.9/dist-packages/sklearn/metrics/_classification.py:1344: UndefinedMetricWarning: Precision is ill-defined and being set to 0.0 in labels with no predicted samples. Use `zero_division` parameter to control this behavior.\n",
            "  _warn_prf(average, modifier, msg_start, len(result))\n"
          ]
        },
        {
          "output_type": "execute_result",
          "data": {
            "text/plain": [
              "[Text(0.5, 23.52222222222222, 'Predicted Labels'),\n",
              " Text(50.722222222222214, 0.5, 'True Labels')]"
            ]
          },
          "metadata": {},
          "execution_count": 117
        },
        {
          "output_type": "display_data",
          "data": {
            "text/plain": [
              "<Figure size 640x480 with 2 Axes>"
            ],
            "image/png": "[encoded data removed]"
          },
          "metadata": {}
        }
      ],
      "source": [
        "print(\"The accuracy score  is \", accuracy_score(y_test, y_test_pred_MLP2L))\n",
        "print(\"The precision score is \", precision_score(y_test, y_test_pred_MLP2L, average='weighted'))\n",
        "print(\"The recall score is \", recall_score(y_test, y_test_pred_MLP2L, average='weighted'))\n",
        "print(\"The F1 score is \", f1_score(y_test, y_test_pred_MLP2L, average='weighted'))\n",
        "\n",
        "s = sns.heatmap(confusion_matrix(y_test, y_test_pred_MLP2L), annot=True)\n",
        "s.set(xlabel='Predicted Labels', ylabel='True Labels')"
      ]
    },
    {
      "cell_type": "markdown",
      "metadata": {
        "id": "bUZwTQRCVMao"
      },
      "source": [
        "**5.2.5** Describe any difference in the loss curve from MLP with one hidden layer and MLP with two hidden layer. **(2pts)**"
      ]
    },
    {
      "cell_type": "markdown",
      "metadata": {
        "id": "fyw-0VRgVMao"
      },
      "source": [
        "As I noted in the section where I plotted the loss curve for MLP with two hidden layers, this time the loss curve was noticeably more \"erratic\" - it wasn't a smooth descent like the first two were. For fun, I did tinker with the learning rates on the LRCV and first MLP models and found that I could make graph more or less erratic (I could make the downward curve more or less smooth) just by changing the learning rate. Interesting!"
      ]
    },
    {
      "cell_type": "markdown",
      "metadata": {
        "id": "uPYoidkEVMao"
      },
      "source": [
        "**5.2.6** Did you see any change in scores between the two MLP models?\n",
        "\n",
        "In <100 words, describe your observation. **(3pts)**"
      ]
    },
    {
      "cell_type": "markdown",
      "metadata": {
        "id": "lV5uLVZkVMao"
      },
      "source": [
        "I'm not entirely sure if I was _supposed_ to see a change in scores between the two models, but to answer the question directly: no, I did not. This was surprising to me, but I found that the premade logistic regression model (as well as both versions of MLP) all had the same scores - and all of those scores were themselves very similar to that of my homemade model! I wrote a comment back in 5.1.1 explaining how I thought changing the learning rate might get some different scores. Little did I know, they would all be the same. "
      ]
    }
  ],
  "metadata": {
    "kernelspec": {
      "display_name": "kd",
      "language": "python",
      "name": "python3"
    },
    "language_info": {
      "codemirror_mode": {
        "name": "ipython",
        "version": 3
      },
      "file_extension": ".py",
      "mimetype": "text/x-python",
      "name": "python",
      "nbconvert_exporter": "python",
      "pygments_lexer": "ipython3",
      "version": "3.9.12"
    },
    "orig_nbformat": 4,
    "colab": {
      "provenance": []
    }
  },
  "nbformat": 4,
  "nbformat_minor": 0
}