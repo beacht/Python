{
  "cells": [
    {
      "cell_type": "markdown",
      "metadata": {
        "id": "w_81u4D3WhUu"
      },
      "source": [
        "# This jupyter notebook is prepared by Tyler Beach."
      ]
    },
    {
      "cell_type": "markdown",
      "metadata": {
        "id": "ldYxL0f2k4An"
      },
      "source": [
        "# 1. Load Data and perform basic EDA (4pts total)"
      ]
    },
    {
      "cell_type": "markdown",
      "metadata": {
        "id": "X1i4jxzBl2XK"
      },
      "source": [
        "### 1.1 import libraries: numpy, pandas, matplotlib.pyplot, seaborn, sklearn (1pt)"
      ]
    },
    {
      "cell_type": "code",
      "execution_count": 69,
      "metadata": {
        "id": "75PmFmzpR8yQ"
      },
      "outputs": [],
      "source": [
        "import numpy as np\n",
        "import pandas as pd\n",
        "import matplotlib.pyplot as plt\n",
        "import seaborn\n",
        "import sklearn"
      ]
    },
    {
      "cell_type": "markdown",
      "metadata": {
        "id": "NXc8-6YDmJsL"
      },
      "source": [
        "### 1.2 Upload the dataset to your Google Drive, then using the following code, import the data to a pandas dataframe and show the count of rows and columns (0.5pt)"
      ]
    },
    {
      "cell_type": "code",
      "execution_count": 70,
      "metadata": {
        "id": "FdK1HFt5XOGR",
        "colab": {
          "base_uri": "https://localhost:8080/",
          "height": 0
        },
        "outputId": "76faa061-b959-49d1-eae0-a00531e0cd2f"
      },
      "outputs": [
        {
          "output_type": "stream",
          "name": "stdout",
          "text": [
            "Drive already mounted at /content/drive; to attempt to forcibly remount, call drive.mount(\"/content/drive\", force_remount=True).\n",
            "8955 rows, 15 columns\n"
          ]
        }
      ],
      "source": [
        "from google.colab import drive\n",
        "drive.mount('/content/drive')\n",
        "file_name = '/content/drive/My Drive/hr_data_.csv' #you may need to change this line depending on the location of your file in Google Drive\n",
        "with open(file_name, 'r') as file:\n",
        "    df = pd.read_csv(file);\n",
        "\n",
        "print(str(df.shape[0]) + \" rows, \" + str(df.shape[1]) + \" columns\")"
      ]
    },
    {
      "cell_type": "markdown",
      "metadata": {
        "id": "m3KH9B2Gms7W"
      },
      "source": [
        "### 1.3 Show the top 7 and bottom 7 rows (0.5pt)"
      ]
    },
    {
      "cell_type": "code",
      "execution_count": 71,
      "metadata": {
        "id": "SaEa4cRUmWip",
        "colab": {
          "base_uri": "https://localhost:8080/",
          "height": 0
        },
        "outputId": "6af7620b-efd1-4e60-cf7c-b51aaf2dddff"
      },
      "outputs": [
        {
          "output_type": "stream",
          "name": "stdout",
          "text": [
            "   Unnamed: 0  enrollee_id      city  city_development_index gender  \\\n",
            "0           1        29725   city_40                   0.776   Male   \n",
            "1           4          666  city_162                   0.767   Male   \n",
            "2           7          402   city_46                   0.762   Male   \n",
            "3           8        27107  city_103                   0.920   Male   \n",
            "4          11        23853  city_103                   0.920   Male   \n",
            "5          12        25619   city_61                   0.913   Male   \n",
            "6          15         6588  city_114                   0.926   Male   \n",
            "\n",
            "       relevent_experience enrolled_university education_level  \\\n",
            "0   No relevent experience       no_enrollment        Graduate   \n",
            "1  Has relevent experience       no_enrollment         Masters   \n",
            "2  Has relevent experience       no_enrollment        Graduate   \n",
            "3  Has relevent experience       no_enrollment        Graduate   \n",
            "4  Has relevent experience       no_enrollment        Graduate   \n",
            "5  Has relevent experience       no_enrollment        Graduate   \n",
            "6  Has relevent experience       no_enrollment        Graduate   \n",
            "\n",
            "  major_discipline  experience company_size    company_type last_new_job  \\\n",
            "0             STEM        15.0        50-99         Pvt Ltd           >4   \n",
            "1             STEM        21.0        50-99  Funded Startup            4   \n",
            "2             STEM        13.0          <10         Pvt Ltd           >4   \n",
            "3             STEM         7.0        50-99         Pvt Ltd            1   \n",
            "4             STEM         5.0    5000-9999         Pvt Ltd            1   \n",
            "5             STEM        21.0    1000-4999         Pvt Ltd            3   \n",
            "6             STEM        16.0        10/49         Pvt Ltd           >4   \n",
            "\n",
            "   training_hours  target  \n",
            "0              47     0.0  \n",
            "1               8     0.0  \n",
            "2              18     1.0  \n",
            "3              46     1.0  \n",
            "4             108     0.0  \n",
            "5              23     0.0  \n",
            "6              18     0.0  \n",
            "\n",
            "\n",
            "\n",
            "      Unnamed: 0  enrollee_id      city  city_development_index  gender  \\\n",
            "8948       19143        33047  city_103                   0.920    Male   \n",
            "8949       19146        13167  city_103                   0.920    Male   \n",
            "8950       19147        21319   city_21                   0.624    Male   \n",
            "8951       19149          251  city_103                   0.920    Male   \n",
            "8952       19150        32313  city_160                   0.920  Female   \n",
            "8953       19152        29754  city_103                   0.920  Female   \n",
            "8954       19155        24576  city_103                   0.920    Male   \n",
            "\n",
            "          relevent_experience enrolled_university education_level  \\\n",
            "8948  Has relevent experience       no_enrollment        Graduate   \n",
            "8949  Has relevent experience       no_enrollment        Graduate   \n",
            "8950   No relevent experience    Full time course        Graduate   \n",
            "8951  Has relevent experience       no_enrollment         Masters   \n",
            "8952  Has relevent experience       no_enrollment        Graduate   \n",
            "8953  Has relevent experience       no_enrollment        Graduate   \n",
            "8954  Has relevent experience       no_enrollment        Graduate   \n",
            "\n",
            "     major_discipline  experience company_size    company_type last_new_job  \\\n",
            "8948             STEM        21.0       10000+         Pvt Ltd           >4   \n",
            "8949             STEM         5.0      500-999         Pvt Ltd            1   \n",
            "8950             STEM         1.0      100-500         Pvt Ltd            1   \n",
            "8951             STEM         9.0        50-99         Pvt Ltd            1   \n",
            "8952             STEM        10.0      100-500   Public Sector            3   \n",
            "8953       Humanities         7.0        10/49  Funded Startup            1   \n",
            "8954             STEM        21.0        50-99         Pvt Ltd            4   \n",
            "\n",
            "      training_hours  target  \n",
            "8948              18     0.0  \n",
            "8949              51     0.0  \n",
            "8950              52     1.0  \n",
            "8951              36     1.0  \n",
            "8952              23     0.0  \n",
            "8953              25     0.0  \n",
            "8954              44     0.0  \n"
          ]
        }
      ],
      "source": [
        "print(df.iloc[0:7])\n",
        "print(\"\\n\\n\")\n",
        "print(df.iloc[8948:8955])"
      ]
    },
    {
      "cell_type": "markdown",
      "metadata": {
        "id": "gVdizy4enKsy"
      },
      "source": [
        "### 1.4 Show if any column has null values (0.5pt)"
      ]
    },
    {
      "cell_type": "code",
      "execution_count": 72,
      "metadata": {
        "id": "youEZNzMnLbe",
        "colab": {
          "base_uri": "https://localhost:8080/",
          "height": 0
        },
        "outputId": "0a97a2d2-86c0-4f4d-8da3-28d1f063f4a8"
      },
      "outputs": [
        {
          "output_type": "stream",
          "name": "stdout",
          "text": [
            "True if there is a null value, false if there is no null value\n",
            "\n",
            "Unnamed: 0                False\n",
            "enrollee_id               False\n",
            "city                      False\n",
            "city_development_index    False\n",
            "gender                    False\n",
            "relevent_experience       False\n",
            "enrolled_university       False\n",
            "education_level           False\n",
            "major_discipline          False\n",
            "experience                False\n",
            "company_size              False\n",
            "company_type              False\n",
            "last_new_job              False\n",
            "training_hours            False\n",
            "target                    False\n",
            "dtype: bool\n"
          ]
        }
      ],
      "source": [
        "print(\"True if there is a null value, false if there is no null value\\n\")\n",
        "print(df.isnull().any())"
      ]
    },
    {
      "cell_type": "markdown",
      "metadata": {
        "id": "2z3XH127sPTk"
      },
      "source": [
        "### 1.5 Show/Plot the count of unique target labels and discuss its imbalances and possible issues in using it for classification. (1.5pt)"
      ]
    },
    {
      "cell_type": "code",
      "execution_count": 73,
      "metadata": {
        "id": "abZRsNaHrbij",
        "colab": {
          "base_uri": "https://localhost:8080/",
          "height": 691
        },
        "outputId": "3db2ab8a-3e3a-4ee4-f5c7-29e9ef2a4471"
      },
      "outputs": [
        {
          "output_type": "stream",
          "name": "stdout",
          "text": [
            "Unnamed: 0                8955\n",
            "enrollee_id               8955\n",
            "city                       116\n",
            "city_development_index      91\n",
            "gender                       3\n",
            "relevent_experience          2\n",
            "enrolled_university          3\n",
            "education_level              3\n",
            "major_discipline             6\n",
            "experience                  22\n",
            "company_size                 8\n",
            "company_type                 6\n",
            "last_new_job                 6\n",
            "training_hours             241\n",
            "target                       2\n",
            "dtype: int64\n"
          ]
        },
        {
          "output_type": "execute_result",
          "data": {
            "text/plain": [
              "<AxesSubplot:>"
            ]
          },
          "metadata": {},
          "execution_count": 73
        },
        {
          "output_type": "display_data",
          "data": {
            "text/plain": [
              "<Figure size 432x288 with 1 Axes>"
            ],
            "image/png": "[encoded data removed]"
          },
          "metadata": {
            "needs_background": "light"
          }
        }
      ],
      "source": [
        "print(df.nunique())\n",
        "df.nunique().plot.bar()\n",
        "\n",
        "# It is counting the unnamed index column and the enrollee_id column as target labels, making the plot much more difficult to read. This wide variation will likely draw attention away from actual important features like education level, experience, etc."
      ]
    },
    {
      "cell_type": "markdown",
      "metadata": {
        "id": "BNbeIOjtynuO"
      },
      "source": [
        "# 2. Feature Selection and Pre-processing (25 pts total)"
      ]
    },
    {
      "cell_type": "markdown",
      "metadata": {
        "id": "owN9XnpJ1VWZ"
      },
      "source": [
        "## 2.1 Preprocessing City (1+1+1+1 = 4pts total)"
      ]
    },
    {
      "cell_type": "markdown",
      "metadata": {
        "id": "2qDnMLJy1PPF"
      },
      "source": [
        "### 2.1.1 Plot no. of records per city so that the highest city counts are shown in descending order (1pt)"
      ]
    },
    {
      "cell_type": "code",
      "execution_count": 74,
      "metadata": {
        "id": "PqC1hgu_sO--",
        "colab": {
          "base_uri": "https://localhost:8080/",
          "height": 864
        },
        "outputId": "eed3a526-7924-4c99-b6f2-6469c22400eb"
      },
      "outputs": [
        {
          "output_type": "stream",
          "name": "stdout",
          "text": [
            "city_103    2426\n",
            "city_21     1111\n",
            "city_16      836\n",
            "city_114     648\n",
            "city_160     401\n",
            "            ... \n",
            "city_127       1\n",
            "city_107       1\n",
            "city_62        1\n",
            "city_109       1\n",
            "city_25        1\n",
            "Name: city, Length: 116, dtype: int64\n"
          ]
        },
        {
          "output_type": "execute_result",
          "data": {
            "text/plain": [
              "<AxesSubplot:>"
            ]
          },
          "metadata": {},
          "execution_count": 74
        },
        {
          "output_type": "display_data",
          "data": {
            "text/plain": [
              "<Figure size 1800x720 with 1 Axes>"
            ],
            "image/png": "[encoded data removed]"
          },
          "metadata": {
            "needs_background": "light"
          }
        }
      ],
      "source": [
        "print(df['city'].value_counts())\n",
        "(df['city'].value_counts()).plot.bar(figsize=(25,10))"
      ]
    },
    {
      "cell_type": "markdown",
      "metadata": {
        "id": "s7WiOn891a7F"
      },
      "source": [
        "### 2.1.2 How many rows belong to the count-wise top 4 cities in total and how many for the remaining? (1pt)"
      ]
    },
    {
      "cell_type": "code",
      "execution_count": 75,
      "metadata": {
        "id": "RL9nN1Im1DrD",
        "colab": {
          "base_uri": "https://localhost:8080/",
          "height": 0
        },
        "outputId": "01fda4b4-a873-4a4c-ea70-94cab65e2810"
      },
      "outputs": [
        {
          "output_type": "stream",
          "name": "stdout",
          "text": [
            "Entries in the top 4 cities: 5021\n",
            "Entries NOT in the top 4 cities: 3934\n"
          ]
        }
      ],
      "source": [
        "# Cities 103, 21, 16, and 114 are the top 4.\n",
        "top4count = df['city'].value_counts()[\"city_103\"] + df['city'].value_counts()[\"city_21\"] + df['city'].value_counts()[\"city_16\"] + df['city'].value_counts()[\"city_114\"]\n",
        "print(\"Entries in the top 4 cities: \" + str(top4count))\n",
        "print(\"Entries NOT in the top 4 cities: \" + str(8955 - top4count))"
      ]
    },
    {
      "cell_type": "markdown",
      "metadata": {
        "id": "reZOuxsBSXGF"
      },
      "source": [
        "### 2.1.3 Replace the city name with city_others if the city name is not among the top 4 (1pt)"
      ]
    },
    {
      "cell_type": "code",
      "execution_count": 76,
      "metadata": {
        "id": "IxrFi5k1Oirf"
      },
      "outputs": [],
      "source": [
        "top4 = [\"city_103\", \"city_21\", \"city_16\", \"city_114\"]\n",
        "df.loc[~df[\"city\"].isin(top4), \"city\"] = \"city_others\"\n",
        "\n"
      ]
    },
    {
      "cell_type": "markdown",
      "metadata": {
        "id": "J09Oz726Sv90"
      },
      "source": [
        "### 2.1.4 Show some sample data that the records have changed correctly. (1pt)"
      ]
    },
    {
      "cell_type": "code",
      "execution_count": 77,
      "metadata": {
        "id": "esi0-ntwSvjX",
        "colab": {
          "base_uri": "https://localhost:8080/",
          "height": 0
        },
        "outputId": "e77d5c28-0674-47a2-b651-07b15cea0c5a"
      },
      "outputs": [
        {
          "output_type": "stream",
          "name": "stdout",
          "text": [
            "   Unnamed: 0  enrollee_id         city  city_development_index gender  \\\n",
            "0           1        29725  city_others                   0.776   Male   \n",
            "1           4          666  city_others                   0.767   Male   \n",
            "2           7          402  city_others                   0.762   Male   \n",
            "3           8        27107     city_103                   0.920   Male   \n",
            "4          11        23853     city_103                   0.920   Male   \n",
            "5          12        25619  city_others                   0.913   Male   \n",
            "6          15         6588     city_114                   0.926   Male   \n",
            "7          20        31972  city_others                   0.843   Male   \n",
            "8          21        19061     city_114                   0.926   Male   \n",
            "9          23         7041  city_others                   0.776   Male   \n",
            "\n",
            "       relevent_experience enrolled_university education_level  \\\n",
            "0   No relevent experience       no_enrollment        Graduate   \n",
            "1  Has relevent experience       no_enrollment         Masters   \n",
            "2  Has relevent experience       no_enrollment        Graduate   \n",
            "3  Has relevent experience       no_enrollment        Graduate   \n",
            "4  Has relevent experience       no_enrollment        Graduate   \n",
            "5  Has relevent experience       no_enrollment        Graduate   \n",
            "6  Has relevent experience       no_enrollment        Graduate   \n",
            "7  Has relevent experience       no_enrollment         Masters   \n",
            "8  Has relevent experience       no_enrollment         Masters   \n",
            "9  Has relevent experience       no_enrollment        Graduate   \n",
            "\n",
            "  major_discipline  experience company_size    company_type last_new_job  \\\n",
            "0             STEM        15.0        50-99         Pvt Ltd           >4   \n",
            "1             STEM        21.0        50-99  Funded Startup            4   \n",
            "2             STEM        13.0          <10         Pvt Ltd           >4   \n",
            "3             STEM         7.0        50-99         Pvt Ltd            1   \n",
            "4             STEM         5.0    5000-9999         Pvt Ltd            1   \n",
            "5             STEM        21.0    1000-4999         Pvt Ltd            3   \n",
            "6             STEM        16.0        10/49         Pvt Ltd           >4   \n",
            "7             STEM        11.0      100-500         Pvt Ltd            1   \n",
            "8             STEM        11.0      100-500         Pvt Ltd            2   \n",
            "9       Humanities         0.0    1000-4999         Pvt Ltd            1   \n",
            "\n",
            "   training_hours  target  \n",
            "0              47     0.0  \n",
            "1               8     0.0  \n",
            "2              18     1.0  \n",
            "3              46     1.0  \n",
            "4             108     0.0  \n",
            "5              23     0.0  \n",
            "6              18     0.0  \n",
            "7              68     0.0  \n",
            "8              50     0.0  \n",
            "9              65     0.0  \n"
          ]
        }
      ],
      "source": [
        "print(df.iloc[0:10])"
      ]
    },
    {
      "cell_type": "markdown",
      "metadata": {
        "id": "t8Y0Fz4RTAHc"
      },
      "source": [
        "## 2.2. Preprocessing Education Level (1+2+2+1 = 6pts total)"
      ]
    },
    {
      "cell_type": "markdown",
      "metadata": {
        "id": "EhNJLVAsTFT5"
      },
      "source": [
        "### 2.2.1. Show the unique values of education level. (1pt)"
      ]
    },
    {
      "cell_type": "code",
      "execution_count": 78,
      "metadata": {
        "id": "gIzfPOywTDEz",
        "colab": {
          "base_uri": "https://localhost:8080/",
          "height": 394
        },
        "outputId": "592f06be-18f4-4d30-d5d5-e45d7506aeed"
      },
      "outputs": [
        {
          "output_type": "stream",
          "name": "stdout",
          "text": [
            "Graduate    6252\n",
            "Masters     2449\n",
            "Phd          254\n",
            "Name: education_level, dtype: int64\n"
          ]
        },
        {
          "output_type": "execute_result",
          "data": {
            "text/plain": [
              "<AxesSubplot:>"
            ]
          },
          "metadata": {},
          "execution_count": 78
        },
        {
          "output_type": "display_data",
          "data": {
            "text/plain": [
              "<Figure size 432x288 with 1 Axes>"
            ],
            "image/png": "[encoded data removed]"
          },
          "metadata": {
            "needs_background": "light"
          }
        }
      ],
      "source": [
        "print(df['education_level'].value_counts())\n",
        "(df['education_level'].value_counts()).plot.bar()"
      ]
    },
    {
      "cell_type": "markdown",
      "metadata": {
        "id": "mbLeUaKvfttp"
      },
      "source": [
        "### 2.2.2. Write a function named replace_labels() that can replace labels using given {old_label:new_label} dictionary (2pts)\n",
        "\n",
        "Parameters: (1) dataframe, (2) a column name, (3) a dictionary with {old_label:new_label} mapping. \n",
        "\n",
        "Returns: a dataframe with specified column values replaced with the  \n"
      ]
    },
    {
      "cell_type": "code",
      "execution_count": 79,
      "metadata": {
        "id": "sptGBzaVfthA"
      },
      "outputs": [],
      "source": [
        "def replace_labels(data, column_name, values):\n",
        "  df2 = df.replace({column_name: values})\n",
        "  return df2"
      ]
    },
    {
      "cell_type": "markdown",
      "metadata": {
        "id": "B3RuKvE8iYBu"
      },
      "source": [
        "### 2.2.3. Using the replace_labels() function you just created, replace education_level column with ordinal values. The mapping can be like \"Graduate\":0, \"Masters\":1, \"Phd\":2 . (2pt)"
      ]
    },
    {
      "cell_type": "code",
      "execution_count": 80,
      "metadata": {
        "id": "ZW1ZzKCihO0L"
      },
      "outputs": [],
      "source": [
        "newedu = {\"Graduate\":0, \"Masters\":1, \"Phd\":2}\n",
        "df = replace_labels(df, \"education_level\", newedu)"
      ]
    },
    {
      "cell_type": "markdown",
      "metadata": {
        "id": "VibwcvMDnfHZ"
      },
      "source": [
        "### 2.2.4 Show some sample data that the records have changed appropriately (1pt)"
      ]
    },
    {
      "cell_type": "code",
      "execution_count": 81,
      "metadata": {
        "id": "JkObFS_bnecp",
        "colab": {
          "base_uri": "https://localhost:8080/",
          "height": 0
        },
        "outputId": "6663b3aa-d60e-4e0a-d973-f37c10889c59"
      },
      "outputs": [
        {
          "output_type": "stream",
          "name": "stdout",
          "text": [
            "    Unnamed: 0  enrollee_id      city  city_development_index  gender  \\\n",
            "15          35         4866  city_103                   0.920    Male   \n",
            "16          37        10164  city_114                   0.926    Male   \n",
            "17          40         2547  city_114                   0.926  Female   \n",
            "18          44         5590   city_21                   0.624    Male   \n",
            "19          46         9006   city_21                   0.624    Male   \n",
            "\n",
            "        relevent_experience enrolled_university  education_level  \\\n",
            "15  Has relevent experience       no_enrollment                0   \n",
            "16  Has relevent experience       no_enrollment                2   \n",
            "17  Has relevent experience    Full time course                1   \n",
            "18  Has relevent experience    Part time course                1   \n",
            "19  Has relevent experience       no_enrollment                0   \n",
            "\n",
            "   major_discipline  experience company_size         company_type  \\\n",
            "15             STEM        10.0        10/49  Early Stage Startup   \n",
            "16             STEM        21.0      100-500              Pvt Ltd   \n",
            "17             STEM        16.0    1000-4999        Public Sector   \n",
            "18             STEM         9.0    5000-9999              Pvt Ltd   \n",
            "19             STEM         5.0      100-500              Pvt Ltd   \n",
            "\n",
            "   last_new_job  training_hours  target  \n",
            "15            2             206     0.0  \n",
            "16            4              42     1.0  \n",
            "17            2              14     0.0  \n",
            "18            3               7     1.0  \n",
            "19        never              87     1.0  \n"
          ]
        }
      ],
      "source": [
        "print(df.iloc[15:20])"
      ]
    },
    {
      "cell_type": "markdown",
      "metadata": {
        "id": "pBI-qbDiXI2M"
      },
      "source": [
        "## 2.3. Preprocessing company_size (2+2+1 = 5pts total)"
      ]
    },
    {
      "cell_type": "markdown",
      "metadata": {
        "id": "fP7UisA6ZS9X"
      },
      "source": [
        "### 2.3.1 Show the unique values of the company_size column and their counts (2pt)"
      ]
    },
    {
      "cell_type": "code",
      "execution_count": 82,
      "metadata": {
        "id": "VYQ8sAQljncN",
        "colab": {
          "base_uri": "https://localhost:8080/",
          "height": 0
        },
        "outputId": "fc0c1409-de70-4d98-ff3f-2f77a189ab44"
      },
      "outputs": [
        {
          "output_type": "stream",
          "name": "stdout",
          "text": [
            "50-99        1986\n",
            "100-500      1814\n",
            "10000+       1449\n",
            "10/49         951\n",
            "1000-4999     930\n",
            "<10           840\n",
            "500-999       592\n",
            "5000-9999     393\n",
            "Name: company_size, dtype: int64\n"
          ]
        }
      ],
      "source": [
        "print(df['company_size'].value_counts())\n",
        "# Unique values on left, counts on right"
      ]
    },
    {
      "cell_type": "markdown",
      "metadata": {
        "id": "o1iq9fTcjWMU"
      },
      "source": [
        "### 2.3.2 Change the values of the company_size column from 0 to 7 where e0 is <10 and 7 is 10000+. The order of the numbers should be based on the values of the column-like an ordinary variable. (2pt)\n",
        "(Hint: you can use the replace_labels() function you created before.)"
      ]
    },
    {
      "cell_type": "code",
      "execution_count": 83,
      "metadata": {
        "id": "qi2Y6fJfeyDi"
      },
      "outputs": [],
      "source": [
        "newsize = {\"<10\":0, \"10/49\":1, \"50-99\":2, \"100-500\":3, \"500-999\":4, \"1000-4999\":5, \"5000-9999\":6, \"10000+\":7}\n",
        "df = replace_labels(df, \"company_size\", newsize)"
      ]
    },
    {
      "cell_type": "markdown",
      "metadata": {
        "id": "-1c8cj2wj0Bo"
      },
      "source": [
        "### 2.3.3 Show the updated unique values to validate they changed appropriately (1pt)"
      ]
    },
    {
      "cell_type": "code",
      "execution_count": 84,
      "metadata": {
        "id": "JNWa09UxelPH",
        "colab": {
          "base_uri": "https://localhost:8080/",
          "height": 0
        },
        "outputId": "b0280413-817f-4d5b-ce6a-f4f5f0b7c6c8"
      },
      "outputs": [
        {
          "output_type": "stream",
          "name": "stdout",
          "text": [
            "2    1986\n",
            "3    1814\n",
            "7    1449\n",
            "1     951\n",
            "5     930\n",
            "0     840\n",
            "4     592\n",
            "6     393\n",
            "Name: company_size, dtype: int64\n"
          ]
        }
      ],
      "source": [
        "print(df['company_size'].value_counts())\n",
        "# Unique values on left, counts on right"
      ]
    },
    {
      "cell_type": "markdown",
      "metadata": {
        "id": "ray9mgZGkMyg"
      },
      "source": [
        "## 2.4. Preprocessing last_new_job (1+2+1 = 4pts total)"
      ]
    },
    {
      "cell_type": "markdown",
      "metadata": {
        "id": "Ry0YEyP7kP51"
      },
      "source": [
        "### 2.4.1 Show unique values of the last_new_job column (1pt)"
      ]
    },
    {
      "cell_type": "code",
      "execution_count": 85,
      "metadata": {
        "id": "9aGPR049kSuN",
        "colab": {
          "base_uri": "https://localhost:8080/",
          "height": 0
        },
        "outputId": "f00c7e23-aec5-4209-eda8-d91192bcad76"
      },
      "outputs": [
        {
          "output_type": "stream",
          "name": "stdout",
          "text": [
            "1        3838\n",
            ">4       1965\n",
            "2        1570\n",
            "3         610\n",
            "4         599\n",
            "never     373\n",
            "Name: last_new_job, dtype: int64\n"
          ]
        }
      ],
      "source": [
        "print(df['last_new_job'].value_counts())\n",
        "# Unique values on left, counts on right"
      ]
    },
    {
      "cell_type": "markdown",
      "metadata": {
        "id": "KowRVFGOkXv4"
      },
      "source": [
        "### 2.4.2 Convert the values of this column to never->0, 1->1,....>4 -->5 (2pt)\n",
        "Hint: replace_labels()"
      ]
    },
    {
      "cell_type": "code",
      "execution_count": 86,
      "metadata": {
        "id": "4AfLULymkZu3"
      },
      "outputs": [],
      "source": [
        "newlj = {\"never\":0, \"1\":1, \"2\":2, \"3\":3, \"4\":4, \">4\":5}\n",
        "df = replace_labels(df, \"last_new_job\", newlj)"
      ]
    },
    {
      "cell_type": "markdown",
      "metadata": {
        "id": "3T-Wjg6dk3Uj"
      },
      "source": [
        "### 2.4.3 Show the updated values (1pt)"
      ]
    },
    {
      "cell_type": "code",
      "execution_count": 87,
      "metadata": {
        "id": "dpI9oBlbk5bb",
        "colab": {
          "base_uri": "https://localhost:8080/",
          "height": 0
        },
        "outputId": "78d6dc8c-231a-4504-d2f2-4a5d9d1d7d7b"
      },
      "outputs": [
        {
          "output_type": "stream",
          "name": "stdout",
          "text": [
            "1    3838\n",
            "5    1965\n",
            "2    1570\n",
            "3     610\n",
            "4     599\n",
            "0     373\n",
            "Name: last_new_job, dtype: int64\n"
          ]
        }
      ],
      "source": [
        "print(df['last_new_job'].value_counts())\n",
        "# Unique values on left, counts on right"
      ]
    },
    {
      "cell_type": "markdown",
      "metadata": {
        "id": "3R2tk1uJlGa5"
      },
      "source": [
        "## 2.5 Preprocessing other columns (2pt total)"
      ]
    },
    {
      "cell_type": "markdown",
      "metadata": {
        "id": "RuJyodTglKCH"
      },
      "source": [
        "### 2.5.1 Drop the enrollee_id, any unnamed columns, and any duplicate columns (if you created multiple columns one with original and one with updated, then remove the original one) (2pt)"
      ]
    },
    {
      "cell_type": "code",
      "execution_count": 88,
      "metadata": {
        "id": "f8eJgpamlOfr",
        "colab": {
          "base_uri": "https://localhost:8080/",
          "height": 0
        },
        "outputId": "2dc36c6f-307e-4968-e90a-34a72c4e7719"
      },
      "outputs": [
        {
          "output_type": "stream",
          "name": "stdout",
          "text": [
            "          city  city_development_index gender      relevent_experience  \\\n",
            "0  city_others                   0.776   Male   No relevent experience   \n",
            "1  city_others                   0.767   Male  Has relevent experience   \n",
            "2  city_others                   0.762   Male  Has relevent experience   \n",
            "3     city_103                   0.920   Male  Has relevent experience   \n",
            "4     city_103                   0.920   Male  Has relevent experience   \n",
            "5  city_others                   0.913   Male  Has relevent experience   \n",
            "6     city_114                   0.926   Male  Has relevent experience   \n",
            "7  city_others                   0.843   Male  Has relevent experience   \n",
            "8     city_114                   0.926   Male  Has relevent experience   \n",
            "9  city_others                   0.776   Male  Has relevent experience   \n",
            "\n",
            "  enrolled_university  education_level major_discipline  experience  \\\n",
            "0       no_enrollment                0             STEM        15.0   \n",
            "1       no_enrollment                1             STEM        21.0   \n",
            "2       no_enrollment                0             STEM        13.0   \n",
            "3       no_enrollment                0             STEM         7.0   \n",
            "4       no_enrollment                0             STEM         5.0   \n",
            "5       no_enrollment                0             STEM        21.0   \n",
            "6       no_enrollment                0             STEM        16.0   \n",
            "7       no_enrollment                1             STEM        11.0   \n",
            "8       no_enrollment                1             STEM        11.0   \n",
            "9       no_enrollment                0       Humanities         0.0   \n",
            "\n",
            "   company_size    company_type  last_new_job  training_hours  target  \n",
            "0             2         Pvt Ltd             5              47     0.0  \n",
            "1             2  Funded Startup             4               8     0.0  \n",
            "2             0         Pvt Ltd             5              18     1.0  \n",
            "3             2         Pvt Ltd             1              46     1.0  \n",
            "4             6         Pvt Ltd             1             108     0.0  \n",
            "5             5         Pvt Ltd             3              23     0.0  \n",
            "6             1         Pvt Ltd             5              18     0.0  \n",
            "7             3         Pvt Ltd             1              68     0.0  \n",
            "8             3         Pvt Ltd             2              50     0.0  \n",
            "9             5         Pvt Ltd             1              65     0.0  \n"
          ]
        }
      ],
      "source": [
        "del df['Unnamed: 0']\n",
        "del df['enrollee_id']\n",
        "print(df.iloc[0:10])"
      ]
    },
    {
      "cell_type": "markdown",
      "metadata": {
        "id": "5M9JeVgJowZm"
      },
      "source": [
        "## 2.6 Feature Scaling (3+1 = 4ps total)"
      ]
    },
    {
      "cell_type": "markdown",
      "metadata": {
        "id": "oYeJBSu9o0-V"
      },
      "source": [
        "### 2.6.1 Use sklearn.preprocessing's MinMaxScaler to perform min max scaling to all the numeric columns (3pt)"
      ]
    },
    {
      "cell_type": "code",
      "execution_count": 89,
      "metadata": {
        "id": "0TZHEB3srp2x"
      },
      "outputs": [],
      "source": [
        "import sklearn.preprocessing as preprocessing\n",
        "\n",
        "columns = ['city_development_index', 'education_level', 'experience', 'company_size', 'last_new_job', 'training_hours', 'target']\n",
        "\n",
        "min_max = preprocessing.MinMaxScaler()\n",
        "df[columns] = min_max.fit_transform(df[columns])"
      ]
    },
    {
      "cell_type": "markdown",
      "metadata": {
        "id": "fCradyXLQWct"
      },
      "source": [
        "### 2.6.2 Show some of the scaled records. (1pt)"
      ]
    },
    {
      "cell_type": "code",
      "execution_count": 90,
      "metadata": {
        "id": "AUBUON0a1DqI",
        "colab": {
          "base_uri": "https://localhost:8080/",
          "height": 0
        },
        "outputId": "b8ec9fe1-0bfc-43c9-804e-b984c69522eb"
      },
      "outputs": [
        {
          "output_type": "stream",
          "name": "stdout",
          "text": [
            "          city  city_development_index gender      relevent_experience  \\\n",
            "0  city_others                0.654691   Male   No relevent experience   \n",
            "1  city_others                0.636727   Male  Has relevent experience   \n",
            "2  city_others                0.626747   Male  Has relevent experience   \n",
            "3     city_103                0.942116   Male  Has relevent experience   \n",
            "4     city_103                0.942116   Male  Has relevent experience   \n",
            "5  city_others                0.928144   Male  Has relevent experience   \n",
            "6     city_114                0.954092   Male  Has relevent experience   \n",
            "7  city_others                0.788423   Male  Has relevent experience   \n",
            "8     city_114                0.954092   Male  Has relevent experience   \n",
            "9  city_others                0.654691   Male  Has relevent experience   \n",
            "\n",
            "  enrolled_university  education_level major_discipline  experience  \\\n",
            "0       no_enrollment              0.0             STEM    0.714286   \n",
            "1       no_enrollment              0.5             STEM    1.000000   \n",
            "2       no_enrollment              0.0             STEM    0.619048   \n",
            "3       no_enrollment              0.0             STEM    0.333333   \n",
            "4       no_enrollment              0.0             STEM    0.238095   \n",
            "5       no_enrollment              0.0             STEM    1.000000   \n",
            "6       no_enrollment              0.0             STEM    0.761905   \n",
            "7       no_enrollment              0.5             STEM    0.523810   \n",
            "8       no_enrollment              0.5             STEM    0.523810   \n",
            "9       no_enrollment              0.0       Humanities    0.000000   \n",
            "\n",
            "   company_size    company_type  last_new_job  training_hours  target  \n",
            "0      0.285714         Pvt Ltd           1.0        0.137313     0.0  \n",
            "1      0.285714  Funded Startup           0.8        0.020896     0.0  \n",
            "2      0.000000         Pvt Ltd           1.0        0.050746     1.0  \n",
            "3      0.285714         Pvt Ltd           0.2        0.134328     1.0  \n",
            "4      0.857143         Pvt Ltd           0.2        0.319403     0.0  \n",
            "5      0.714286         Pvt Ltd           0.6        0.065672     0.0  \n",
            "6      0.142857         Pvt Ltd           1.0        0.050746     0.0  \n",
            "7      0.428571         Pvt Ltd           0.2        0.200000     0.0  \n",
            "8      0.428571         Pvt Ltd           0.4        0.146269     0.0  \n",
            "9      0.714286         Pvt Ltd           0.2        0.191045     0.0  \n"
          ]
        }
      ],
      "source": [
        "print(df.iloc[0:10])"
      ]
    },
    {
      "cell_type": "markdown",
      "metadata": {
        "id": "bAqPdBXbum0v"
      },
      "source": [
        "# 3. X/Y and Training/Test Split with stratified sampling (15pts in total)"
      ]
    },
    {
      "cell_type": "markdown",
      "metadata": {
        "id": "n0vy1uyKF5DV"
      },
      "source": [
        "### 3.1 Using a lot of features with categorical values is not memory-efficient. Use a LabelEncoder() to convert all the categorical columns to numeric labels. (This task is similar to previous assignment A1) (2pt)"
      ]
    },
    {
      "cell_type": "code",
      "execution_count": 91,
      "metadata": {
        "id": "QTDOZN6adW3m",
        "colab": {
          "base_uri": "https://localhost:8080/",
          "height": 0
        },
        "outputId": "af1c977c-92c2-4494-b40a-15f7db38e430"
      },
      "outputs": [
        {
          "output_type": "stream",
          "name": "stdout",
          "text": [
            "   city  city_development_index  gender  relevent_experience  \\\n",
            "0     4                0.654691       1                    1   \n",
            "1     4                0.636727       1                    0   \n",
            "2     4                0.626747       1                    0   \n",
            "3     0                0.942116       1                    0   \n",
            "4     0                0.942116       1                    0   \n",
            "5     4                0.928144       1                    0   \n",
            "6     1                0.954092       1                    0   \n",
            "7     4                0.788423       1                    0   \n",
            "8     1                0.954092       1                    0   \n",
            "9     4                0.654691       1                    0   \n",
            "\n",
            "   enrolled_university  education_level  major_discipline  experience  \\\n",
            "0                    2              0.0                 5    0.714286   \n",
            "1                    2              0.5                 5    1.000000   \n",
            "2                    2              0.0                 5    0.619048   \n",
            "3                    2              0.0                 5    0.333333   \n",
            "4                    2              0.0                 5    0.238095   \n",
            "5                    2              0.0                 5    1.000000   \n",
            "6                    2              0.0                 5    0.761905   \n",
            "7                    2              0.5                 5    0.523810   \n",
            "8                    2              0.5                 5    0.523810   \n",
            "9                    2              0.0                 2    0.000000   \n",
            "\n",
            "   company_size  company_type  last_new_job  training_hours  target  \n",
            "0      0.285714             5           1.0        0.137313     0.0  \n",
            "1      0.285714             1           0.8        0.020896     0.0  \n",
            "2      0.000000             5           1.0        0.050746     1.0  \n",
            "3      0.285714             5           0.2        0.134328     1.0  \n",
            "4      0.857143             5           0.2        0.319403     0.0  \n",
            "5      0.714286             5           0.6        0.065672     0.0  \n",
            "6      0.142857             5           1.0        0.050746     0.0  \n",
            "7      0.428571             5           0.2        0.200000     0.0  \n",
            "8      0.428571             5           0.4        0.146269     0.0  \n",
            "9      0.714286             5           0.2        0.191045     0.0  \n"
          ]
        }
      ],
      "source": [
        "label_encoder = preprocessing.LabelEncoder()\n",
        "\n",
        "df['city']= label_encoder.fit_transform(df['city'])\n",
        "df['gender']= label_encoder.fit_transform(df['gender'])\n",
        "df['relevent_experience']= label_encoder.fit_transform(df['relevent_experience'])\n",
        "df['enrolled_university']= label_encoder.fit_transform(df['enrolled_university'])\n",
        "df['major_discipline']= label_encoder.fit_transform(df['major_discipline'])\n",
        "df['company_type']= label_encoder.fit_transform(df['company_type'])\n",
        "\n",
        "print(df.iloc[0:10])"
      ]
    },
    {
      "cell_type": "markdown",
      "metadata": {
        "id": "qgh6gbo__lAd"
      },
      "source": [
        "### 3.2 Copy all the features into X and the target to Y (2pt)"
      ]
    },
    {
      "cell_type": "code",
      "execution_count": 92,
      "metadata": {
        "id": "hJ5l0aLz_swD"
      },
      "outputs": [],
      "source": [
        "X = df[['city', 'city_development_index', 'gender', 'relevent_experience', 'enrolled_university', 'education_level', 'major_discipline', 'experience', 'company_size', 'company_type', 'last_new_job', 'training_hours']].copy()\n",
        "Y = df[\"target\"]"
      ]
    },
    {
      "cell_type": "markdown",
      "metadata": {
        "id": "7mxgOZ8bWCTG"
      },
      "source": [
        "\n",
        "### 3.3 Show the ratio of 1 and 0 in Y. (1pt)"
      ]
    },
    {
      "cell_type": "code",
      "execution_count": 93,
      "metadata": {
        "id": "xCTReI87WwIn",
        "colab": {
          "base_uri": "https://localhost:8080/",
          "height": 0
        },
        "outputId": "8b0d2fcd-8c8e-49ed-a508-e3117bb8004c"
      },
      "outputs": [
        {
          "output_type": "stream",
          "name": "stdout",
          "text": [
            "1483 1's\n",
            "8955 total rows\n",
            "\n",
            "Ratio of 1's in Y: 0.16560580681183695\n"
          ]
        }
      ],
      "source": [
        "count1 = Y.value_counts()[1]\n",
        "countY = (Y.value_counts()[0] + Y.value_counts()[1])\n",
        "ratio1 = count1/countY\n",
        "\n",
        "print(str(count1) + \" 1's\")\n",
        "print(str(countY) + \" total rows\")\n",
        "print(\"\\nRatio of 1's in Y: \" + str(ratio1))"
      ]
    },
    {
      "cell_type": "markdown",
      "metadata": {
        "id": "sYiNLcbZWw-p"
      },
      "source": [
        "### 3.4 Use sklearn's train_test_split() to split the data set into 70% training and 30% test sets. Set random_state to 42. We want to have the same ratio of 0 and 1 in the test set, use the stratify parameter to Y to ensure this. Then show the ratio of 1 and 0 in both train and test target. (4pt)"
      ]
    },
    {
      "cell_type": "code",
      "execution_count": 94,
      "metadata": {
        "id": "g-h2q8R4XQxX",
        "colab": {
          "base_uri": "https://localhost:8080/",
          "height": 0
        },
        "outputId": "f20c2acc-7af7-465e-9a45-5a30cdbf933e"
      },
      "outputs": [
        {
          "output_type": "stream",
          "name": "stdout",
          "text": [
            "Ratio of 1's in y_test: 0.1656122069222181\n",
            "Ratio of 1's in y_train: 0.1656030631780472\n"
          ]
        }
      ],
      "source": [
        "from sklearn.model_selection import train_test_split\n",
        "\n",
        "x_train, x_test, y_train, y_test = train_test_split(X, Y, test_size=0.3, random_state=42, stratify=Y)\n",
        "\n",
        "count1test = y_test.value_counts()[1]\n",
        "countYtest = (y_test.value_counts()[0] + y_test.value_counts()[1])\n",
        "ratio1test = count1test/countYtest\n",
        "print(\"Ratio of 1's in y_test: \" + str(ratio1test))\n",
        "\n",
        "count1train = y_train.value_counts()[1]\n",
        "countYtrain = (y_train.value_counts()[0] + y_train.value_counts()[1])\n",
        "ratio1train = count1train/countYtrain\n",
        "print(\"Ratio of 1's in y_train: \" + str(ratio1train))"
      ]
    },
    {
      "cell_type": "markdown",
      "metadata": {
        "id": "9go74asN_4A3"
      },
      "source": [
        "### 3.5 Rebalancing (4+2 = 6pts)"
      ]
    },
    {
      "cell_type": "markdown",
      "metadata": {
        "id": "DcaOwlmnDFrN"
      },
      "source": [
        "3.5.1 Use imblearn's SMOTENC to balance the x_train\n"
      ]
    },
    {
      "cell_type": "markdown",
      "metadata": {
        "id": "TMo87lbJSiIB"
      },
      "source": [
        "When our training set have class imbalance, we often perform over-sampling to generate synthetic data that can help in training. SMOTE is a library by imblearn for this purpose. The usage is fairly straightforward. See documentation [here](https://imbalanced-learn.org/stable/references/generated/imblearn.over_sampling.SMOTENC.html#imblearn.over_sampling.SMOTENC) and a brief explanation with example [here](https://medium.com/analytics-vidhya/smote-nc-in-ml-categorization-models-fo-imbalanced-datasets-8adbdcf08c25)"
      ]
    },
    {
      "cell_type": "code",
      "execution_count": 95,
      "metadata": {
        "id": "Gg5q3iNCaCX5"
      },
      "outputs": [],
      "source": [
        "from imblearn.over_sampling import SMOTENC\n",
        "\n",
        "sm = SMOTENC(categorical_features=[0, 2, 3, 4, 5, 6, 9, 10], random_state=42)\n",
        "x_trainres, y_trainres = sm.fit_resample(x_train, y_train)"
      ]
    },
    {
      "cell_type": "markdown",
      "metadata": {
        "id": "OOLWrq4EC6pN"
      },
      "source": [
        "3.5.2 Did that change the ratio in label? Confirm by printing the ratio in resampled labels."
      ]
    },
    {
      "cell_type": "code",
      "execution_count": 96,
      "metadata": {
        "id": "gX5UzM45CgKg",
        "colab": {
          "base_uri": "https://localhost:8080/",
          "height": 0
        },
        "outputId": "20ac3601-8acf-4902-afa2-c703bb826cc4"
      },
      "outputs": [
        {
          "output_type": "stream",
          "name": "stdout",
          "text": [
            "Ratio of 1's in y_train: 0.5\n"
          ]
        }
      ],
      "source": [
        "count1trainres = y_trainres.value_counts()[1]\n",
        "countYtrainres = (y_trainres.value_counts()[0] + y_trainres.value_counts()[1])\n",
        "ratio1trainres = count1trainres/countYtrainres\n",
        "print(\"Ratio of 1's in y_train: \" + str(ratio1trainres))"
      ]
    },
    {
      "cell_type": "markdown",
      "metadata": {
        "id": "IEKsXRt-aDbT"
      },
      "source": [
        "# 4. Decision Tree (20pts total)"
      ]
    },
    {
      "cell_type": "markdown",
      "metadata": {
        "id": "IW262Gdlakso"
      },
      "source": [
        "### 4.1 Initialize a decision tree model using sklearns DecisionTreeClassifier. Use the unbalanced training set. Set a consistent value for random_state parameter so that your result is reproducible. (1pt)"
      ]
    },
    {
      "cell_type": "code",
      "execution_count": 97,
      "metadata": {
        "id": "tZ8TFB2kauD8",
        "colab": {
          "base_uri": "https://localhost:8080/",
          "height": 0
        },
        "outputId": "21da97a5-d311-4b5d-b830-4f84f7d2d7af"
      },
      "outputs": [
        {
          "output_type": "execute_result",
          "data": {
            "text/plain": [
              "DecisionTreeClassifier(random_state=42)"
            ]
          },
          "metadata": {},
          "execution_count": 97
        }
      ],
      "source": [
        "from sklearn.tree import DecisionTreeClassifier\n",
        "clf = DecisionTreeClassifier(random_state = 42)\n",
        "clf.fit(x_train, y_train)"
      ]
    },
    {
      "cell_type": "markdown",
      "metadata": {
        "id": "Zl1qOJnvVXxh"
      },
      "source": [
        "### 4.2 Use grid search to find out the best combination of values for the parameters: criterion, max_depth, min_samples_split, max_features. Then print the best performing parameters. (4pt)"
      ]
    },
    {
      "cell_type": "code",
      "execution_count": 98,
      "metadata": {
        "id": "qQpIAji7M_od",
        "colab": {
          "base_uri": "https://localhost:8080/",
          "height": 0
        },
        "outputId": "bd85dfe5-8aed-4f9e-af7d-8acd7a74c746"
      },
      "outputs": [
        {
          "output_type": "stream",
          "name": "stdout",
          "text": [
            "{'criterion': 'gini', 'max_depth': 2, 'max_features': 6, 'min_samples_split': 2}\n"
          ]
        }
      ],
      "source": [
        "from sklearn.model_selection import GridSearchCV\n",
        "params = {\n",
        "    'criterion': [\"gini\", \"entropy\"], #it is getting mad at me when I try using log_loss.\n",
        "    'max_depth': [2, 3, 4, 5, 6, 7, 8, 9, 10],\n",
        "    'min_samples_split': [2, 3, 4, 5, 6, 7, 8, 9, 10],\n",
        "    'max_features': [2, 3, 4, 5, 6, 7, 8, 9, 10, 11, 12],\n",
        "}\n",
        "gs = GridSearchCV(estimator = clf, param_grid = params, scoring='accuracy')\n",
        "gs.fit(x_train, y_train)\n",
        "print(gs.best_params_)"
      ]
    },
    {
      "cell_type": "markdown",
      "metadata": {
        "id": "UJRSRsVeWC8y"
      },
      "source": [
        "### 4.3 Add the best performing parameter set to the already-initialized Decision Tree model. Then fit it on the train dataset. (2pt)"
      ]
    },
    {
      "cell_type": "code",
      "execution_count": 99,
      "metadata": {
        "id": "hEaJbzrlQaBY",
        "colab": {
          "base_uri": "https://localhost:8080/",
          "height": 0
        },
        "outputId": "c28cb91d-f249-45dd-9677-aa54c59690c9"
      },
      "outputs": [
        {
          "output_type": "execute_result",
          "data": {
            "text/plain": [
              "DecisionTreeClassifier(max_depth=2, max_features=8, random_state=42)"
            ]
          },
          "metadata": {},
          "execution_count": 99
        }
      ],
      "source": [
        "clf = DecisionTreeClassifier(random_state = 42, criterion='gini', max_depth=2, max_features=8, min_samples_split=2)\n",
        "clf.fit(x_train, y_train)"
      ]
    },
    {
      "cell_type": "markdown",
      "metadata": {
        "id": "WPYRzwmIWeSZ"
      },
      "source": [
        "### 4.4 Import the accuracy_score, precision_score, recall_score, confusion_matrix, f1_score, roc_auc_score from scikitlearn's metrics package. Evaluate your Decision Tree on the Test dataset and print all the metrics. (3pt)"
      ]
    },
    {
      "cell_type": "code",
      "execution_count": 100,
      "metadata": {
        "id": "Opr3pQspcwQN",
        "colab": {
          "base_uri": "https://localhost:8080/",
          "height": 0
        },
        "outputId": "14e55049-1bc3-4c3b-9d54-813a6e5738ad"
      },
      "outputs": [
        {
          "output_type": "stream",
          "name": "stdout",
          "text": [
            "The accuracy score for clf is  0.8585783401563082\n",
            "The precision score for clf is  0.5818639798488665\n",
            "The recall score for clf is  0.5191011235955056\n",
            "The confusion matrix for clf is  [[2076  166]\n",
            " [ 214  231]]\n",
            "The f1 score for clf is  0.5486935866983373\n",
            "The roc auc score for clf is  0.72253004440257\n"
          ]
        }
      ],
      "source": [
        "from sklearn.metrics import accuracy_score, precision_score, recall_score, confusion_matrix, f1_score, roc_auc_score\n",
        "y_test_pred = clf.predict(x_test)\n",
        "\n",
        "print(\"The accuracy score for clf is \", accuracy_score(y_test, y_test_pred))\n",
        "print(\"The precision score for clf is \", precision_score(y_test, y_test_pred))\n",
        "print(\"The recall score for clf is \", recall_score(y_test, y_test_pred))\n",
        "print(\"The confusion matrix for clf is \", confusion_matrix(y_test, y_test_pred))\n",
        "print(\"The f1 score for clf is \", f1_score(y_test, y_test_pred))\n",
        "print(\"The roc auc score for clf is \", roc_auc_score(y_test, y_test_pred))"
      ]
    },
    {
      "cell_type": "markdown",
      "metadata": {
        "id": "2UP7aQs0GQwX"
      },
      "source": [
        "### 4.5 Plot the tree using scikitlearn's tree package. You may need to define a large figure size using matplotlib to have an intelligible figure. (2pt)"
      ]
    },
    {
      "cell_type": "code",
      "execution_count": 101,
      "metadata": {
        "id": "pnwDm0uiE-KP",
        "colab": {
          "base_uri": "https://localhost:8080/",
          "height": 1003
        },
        "outputId": "196436f4-64de-420d-a481-56e670ca2a96"
      },
      "outputs": [
        {
          "output_type": "display_data",
          "data": {
            "text/plain": [
              "<Figure size 2880x1440 with 1 Axes>"
            ],
            "image/png": "[encoded data removed]"
          },
          "metadata": {
            "needs_background": "light"
          }
        }
      ],
      "source": [
        "from sklearn import tree\n",
        "plt.figure(figsize=(40,20))  # customize according to the size of your tree\n",
        "_ = tree.plot_tree(clf, feature_names = X.columns)\n",
        "plt.show()"
      ]
    },
    {
      "cell_type": "markdown",
      "metadata": {
        "id": "RmrdrwU-Dvf6"
      },
      "source": [
        "### 4.6 Initialize a new Decision Tree model, then use the best set of parameters from Step 4.3 to train it on the balanced train set that you prepared in Step 3.5.1. (3pt)"
      ]
    },
    {
      "cell_type": "code",
      "execution_count": 102,
      "metadata": {
        "id": "7SD0orb7Dhdf",
        "colab": {
          "base_uri": "https://localhost:8080/",
          "height": 0
        },
        "outputId": "320bea2f-0b85-480e-ff9b-5660196efa24"
      },
      "outputs": [
        {
          "output_type": "execute_result",
          "data": {
            "text/plain": [
              "DecisionTreeClassifier(max_depth=2, max_features=8, random_state=42)"
            ]
          },
          "metadata": {},
          "execution_count": 102
        }
      ],
      "source": [
        "newtree = DecisionTreeClassifier(random_state = 42, criterion='gini', max_depth=2, max_features=8, min_samples_split=2)\n",
        "newtree.fit(x_trainres, y_trainres)"
      ]
    },
    {
      "cell_type": "markdown",
      "metadata": {
        "id": "ICoCAMplYVKh"
      },
      "source": [
        "### 4.7 Print the evaluation scores (accuracy_score, precision_score, recall_score, confusion_matrix, f1_score, roc_auc_score) from the training on balanced dataset. (3pt)"
      ]
    },
    {
      "cell_type": "code",
      "execution_count": 103,
      "metadata": {
        "id": "-VQUO4EvY0Xr",
        "colab": {
          "base_uri": "https://localhost:8080/",
          "height": 0
        },
        "outputId": "9654b852-14d4-4bfb-c055-affc390459d6"
      },
      "outputs": [
        {
          "output_type": "stream",
          "name": "stdout",
          "text": [
            "The accuracy score for newtree is  0.8567175288425753\n",
            "The precision score for newtree is  0.5697674418604651\n",
            "The recall score for newtree is  0.550561797752809\n",
            "The confusion matrix for newtree is  [[2057  185]\n",
            " [ 200  245]]\n",
            "The f1 score for newtree is  0.56\n",
            "The roc auc score for newtree is  0.7340230933456284\n"
          ]
        }
      ],
      "source": [
        "y_test_pred = newtree.predict(x_test)\n",
        "\n",
        "print(\"The accuracy score for newtree is \", accuracy_score(y_test, y_test_pred))\n",
        "print(\"The precision score for newtree is \", precision_score(y_test, y_test_pred))\n",
        "print(\"The recall score for newtree is \", recall_score(y_test, y_test_pred))\n",
        "print(\"The confusion matrix for newtree is \", confusion_matrix(y_test, y_test_pred))\n",
        "print(\"The f1 score for newtree is \", f1_score(y_test, y_test_pred))\n",
        "print(\"The roc auc score for newtree is \", roc_auc_score(y_test, y_test_pred))"
      ]
    },
    {
      "cell_type": "markdown",
      "metadata": {
        "id": "wMv-Nmaew3td"
      },
      "source": [
        "### 4.8 Discuss any difference between evaluation results from the unbalanced train set and balanced train set. (2pt)"
      ]
    },
    {
      "cell_type": "markdown",
      "metadata": {
        "id": "2c_ZSzbW1Opy"
      },
      "source": [
        "The results from using the balanced train set had slightly lower accuracy and precision, but higher recall and f1 score. The balanced set also yielded a higher roc auc score. I actually find it pretty interesting that accuracy went *down* with the balanced set. I guess SMOTENC didn't do a completely perfect job creating new synthetic data."
      ]
    },
    {
      "cell_type": "markdown",
      "metadata": {
        "id": "x_h1QYuVSqQf"
      },
      "source": [
        "# 5. Random Forest Classifier (12pts total)"
      ]
    },
    {
      "cell_type": "markdown",
      "metadata": {
        "id": "36D52lOdVs2o"
      },
      "source": [
        "### 5.1 Use grid search to find best combinations of the following Random Forest parameters: n_estimators, max_depth, min_samples_split and min_samples_leaf. Use your own choice of scoring, criterion, number of folds for cross-validation for the model initialization. Remember the grid search can take a while to finish. (4pt)"
      ]
    },
    {
      "cell_type": "code",
      "execution_count": 104,
      "metadata": {
        "id": "ogCCZd3XStni",
        "colab": {
          "base_uri": "https://localhost:8080/",
          "height": 0
        },
        "outputId": "d641c67f-8153-4ad3-f321-ceacf039d784"
      },
      "outputs": [
        {
          "output_type": "execute_result",
          "data": {
            "text/plain": [
              "GridSearchCV(estimator=RandomForestClassifier(random_state=42),\n",
              "             param_grid={'max_depth': [2, 3, 4, 5],\n",
              "                         'min_samples_leaf': [2, 3, 4, 5, 6],\n",
              "                         'min_samples_split': [2, 3, 4, 5, 6],\n",
              "                         'n_estimators': [2, 3, 4, 5, 6]})"
            ]
          },
          "metadata": {},
          "execution_count": 104
        }
      ],
      "source": [
        "from sklearn.ensemble import RandomForestClassifier\n",
        "forest = RandomForestClassifier(random_state=42, criterion=\"gini\")\n",
        "params = {\n",
        "    'n_estimators': [2, 3, 4, 5, 6],\n",
        "    'max_depth': [2, 3, 4, 5],\n",
        "    'min_samples_split': [2, 3, 4, 5, 6],\n",
        "    'min_samples_leaf': [2, 3, 4, 5, 6],\n",
        "}\n",
        "gs = GridSearchCV(estimator = forest, param_grid = params)\n",
        "gs.fit(x_train, y_train)\n"
      ]
    },
    {
      "cell_type": "markdown",
      "metadata": {
        "id": "gV2NO3hjaCEh"
      },
      "source": [
        "### 5.2 Print the best combination of parameters and use it to train a Random Forest classifier model. (3pt)"
      ]
    },
    {
      "cell_type": "code",
      "execution_count": 105,
      "metadata": {
        "id": "AgzZUi_kWxyh",
        "colab": {
          "base_uri": "https://localhost:8080/",
          "height": 0
        },
        "outputId": "b50f9d83-ac1a-45db-ddbc-7ca4f264f273"
      },
      "outputs": [
        {
          "output_type": "stream",
          "name": "stdout",
          "text": [
            "{'max_depth': 4, 'min_samples_leaf': 4, 'min_samples_split': 2, 'n_estimators': 6}\n"
          ]
        },
        {
          "output_type": "execute_result",
          "data": {
            "text/plain": [
              "RandomForestClassifier(max_depth=4, min_samples_leaf=4, n_estimators=6,\n",
              "                       random_state=42)"
            ]
          },
          "metadata": {},
          "execution_count": 105
        }
      ],
      "source": [
        "print(gs.best_params_)\n",
        "forest = RandomForestClassifier(random_state = 42, criterion='gini', max_depth=4, min_samples_leaf=4, min_samples_split=2, n_estimators=6)\n",
        "forest.fit(x_train, y_train)"
      ]
    },
    {
      "cell_type": "markdown",
      "metadata": {
        "id": "8p9ibWd8aSbk"
      },
      "source": [
        "### 5.3  Evaluate using the same metrics as before (accuracy_score, precision_score, recall_score, confusion_matrix, f1_score, roc_auc_score) (5pt)"
      ]
    },
    {
      "cell_type": "code",
      "execution_count": 106,
      "metadata": {
        "id": "6d5bRGXyYa8Z",
        "colab": {
          "base_uri": "https://localhost:8080/",
          "height": 0
        },
        "outputId": "15723f01-ea63-4e64-a648-7d6c2d35d3ff"
      },
      "outputs": [
        {
          "output_type": "stream",
          "name": "stdout",
          "text": [
            "The accuracy score for the forest is  0.8526237439523632\n",
            "The precision score for the forest is  0.5758513931888545\n",
            "The recall score for the forest is  0.41797752808988764\n",
            "The confusion matrix for the forest is  [[2105  137]\n",
            " [ 259  186]]\n",
            "The f1 score for the forest is  0.484375\n",
            "The roc auc score for the forest is  0.6784356864356663\n"
          ]
        }
      ],
      "source": [
        "y_test_pred = forest.predict(x_test)\n",
        "\n",
        "print(\"The accuracy score for the forest is \", accuracy_score(y_test, y_test_pred))\n",
        "print(\"The precision score for the forest is \", precision_score(y_test, y_test_pred))\n",
        "print(\"The recall score for the forest is \", recall_score(y_test, y_test_pred))\n",
        "print(\"The confusion matrix for the forest is \", confusion_matrix(y_test, y_test_pred))\n",
        "print(\"The f1 score for the forest is \", f1_score(y_test, y_test_pred))\n",
        "print(\"The roc auc score for the forest is \", roc_auc_score(y_test, y_test_pred))"
      ]
    },
    {
      "cell_type": "markdown",
      "metadata": {
        "id": "-XuX9sEUcu42"
      },
      "source": [
        "# 6. Boosting Classifier (20 pts total)"
      ]
    },
    {
      "cell_type": "markdown",
      "metadata": {
        "id": "k9g6-WtWoQli"
      },
      "source": [
        "## 6.1 AdaBoost Classifier (10 pts total)"
      ]
    },
    {
      "cell_type": "markdown",
      "metadata": {
        "id": "94faLGF4dHDX"
      },
      "source": [
        "### 6.1.1 Perform a grid search for best values for parameters={n_estimators, learning_rate} of an AdaBoostClassifier and the given training set. (4pt) "
      ]
    },
    {
      "cell_type": "code",
      "execution_count": 107,
      "metadata": {
        "id": "jFwyYsHQc0jb",
        "colab": {
          "base_uri": "https://localhost:8080/",
          "height": 0
        },
        "outputId": "10b0579a-9129-4d6c-f2b3-1e53ede5801a"
      },
      "outputs": [
        {
          "output_type": "stream",
          "name": "stdout",
          "text": [
            "{'learning_rate': 0.1, 'n_estimators': 50}\n"
          ]
        }
      ],
      "source": [
        "from sklearn.ensemble import AdaBoostClassifier\n",
        "ada = AdaBoostClassifier(random_state=42)\n",
        "params = {\n",
        "    'n_estimators': [30, 40, 50, 60, 70],\n",
        "    'learning_rate': [0.01, 0.025, 0.05, 0.075, 0.1]\n",
        "}\n",
        "gs = GridSearchCV(estimator = ada, param_grid = params)\n",
        "gs.fit(x_train, y_train)\n",
        "print(gs.best_params_)"
      ]
    },
    {
      "cell_type": "markdown",
      "metadata": {
        "id": "Hmofa6lXcG5l"
      },
      "source": [
        "### 6.1.2 Train an AdaboostClassifier using the best parameter set you found in step 6.1.1 (3pt) "
      ]
    },
    {
      "cell_type": "code",
      "execution_count": 108,
      "metadata": {
        "id": "JiQmOcz8gjNi",
        "colab": {
          "base_uri": "https://localhost:8080/",
          "height": 0
        },
        "outputId": "5785fc22-2cf4-457a-df40-4b5a922d85fb"
      },
      "outputs": [
        {
          "output_type": "execute_result",
          "data": {
            "text/plain": [
              "AdaBoostClassifier(learning_rate=0.1, random_state=42)"
            ]
          },
          "metadata": {},
          "execution_count": 108
        }
      ],
      "source": [
        "ada = AdaBoostClassifier(random_state=42, n_estimators = 50, learning_rate = 0.1)\n",
        "ada.fit(x_train, y_train)"
      ]
    },
    {
      "cell_type": "markdown",
      "metadata": {
        "id": "SOpbWfoTcYMS"
      },
      "source": [
        "### 6.1.3 Evaluate using the same metrics as before (accuracy_score, precision_score, recall_score, confusion_matrix, f1_score, roc_auc_score) (3pt)"
      ]
    },
    {
      "cell_type": "code",
      "execution_count": 109,
      "metadata": {
        "id": "mGS9o87aiQrP",
        "colab": {
          "base_uri": "https://localhost:8080/",
          "height": 0
        },
        "outputId": "1289a6b0-9db8-493b-99c1-125af4b46d3d"
      },
      "outputs": [
        {
          "output_type": "stream",
          "name": "stdout",
          "text": [
            "The accuracy score for ada is  0.8582061778935616\n",
            "The precision score for ada is  0.5754716981132075\n",
            "The recall score for ada is  0.5483146067415731\n",
            "The confusion matrix for ada is  [[2062  180]\n",
            " [ 201  244]]\n",
            "The f1 score for ada is  0.5615650172612199\n",
            "The roc auc score for ada is  0.7340145736651665\n"
          ]
        }
      ],
      "source": [
        "y_test_pred = ada.predict(x_test)\n",
        "\n",
        "print(\"The accuracy score for ada is \", accuracy_score(y_test, y_test_pred))\n",
        "print(\"The precision score for ada is \", precision_score(y_test, y_test_pred))\n",
        "print(\"The recall score for ada is \", recall_score(y_test, y_test_pred))\n",
        "print(\"The confusion matrix for ada is \", confusion_matrix(y_test, y_test_pred))\n",
        "print(\"The f1 score for ada is \", f1_score(y_test, y_test_pred))\n",
        "print(\"The roc auc score for ada is \", roc_auc_score(y_test, y_test_pred))"
      ]
    },
    {
      "cell_type": "markdown",
      "metadata": {
        "id": "5T2QO0aloZwg"
      },
      "source": [
        "## 6.2 Gradient Boosting Classifier (10 pts total)"
      ]
    },
    {
      "cell_type": "markdown",
      "metadata": {
        "id": "Xf-QJ-tVcnSU"
      },
      "source": [
        "### 6.2.1 Perform a grid search for best values for parameters={n_estimators, max_depth, learning_rate} of a GradientBoostingClassifier and the given training set. (4pt)"
      ]
    },
    {
      "cell_type": "code",
      "execution_count": 110,
      "metadata": {
        "id": "8erF7UBQhXd3",
        "colab": {
          "base_uri": "https://localhost:8080/",
          "height": 0
        },
        "outputId": "adca9cc0-705a-48d7-dbd2-95df7cba7683"
      },
      "outputs": [
        {
          "output_type": "stream",
          "name": "stdout",
          "text": [
            "{'learning_rate': 0.05, 'max_depth': 2, 'n_estimators': 70}\n"
          ]
        }
      ],
      "source": [
        "from sklearn.ensemble import GradientBoostingClassifier\n",
        "gbc = GradientBoostingClassifier(random_state=42)\n",
        "params = {\n",
        "    'max_depth': [2, 3, 4, 5],\n",
        "    'n_estimators': [30, 40, 50, 60, 70],\n",
        "    'learning_rate': [0.01, 0.025, 0.05, 0.075, 0.1]\n",
        "}\n",
        "gs = GridSearchCV(estimator = gbc, param_grid = params)\n",
        "gs.fit(x_train, y_train)\n",
        "print(gs.best_params_)"
      ]
    },
    {
      "cell_type": "markdown",
      "metadata": {
        "id": "RRZKR-bHott5"
      },
      "source": [
        "### 6.2.2 Train a GradientBoostingClassifier using the best parameter set you found in step 6.2.1 (3pt) "
      ]
    },
    {
      "cell_type": "code",
      "execution_count": 111,
      "metadata": {
        "id": "bAQZH-KqkrNq",
        "colab": {
          "base_uri": "https://localhost:8080/",
          "height": 0
        },
        "outputId": "a1129d2f-8b6d-4752-ffba-8ae084fafab9"
      },
      "outputs": [
        {
          "output_type": "execute_result",
          "data": {
            "text/plain": [
              "GradientBoostingClassifier(learning_rate=0.05, max_depth=2, n_estimators=70,\n",
              "                           random_state=42)"
            ]
          },
          "metadata": {},
          "execution_count": 111
        }
      ],
      "source": [
        "gbc = GradientBoostingClassifier(random_state=42, n_estimators = 70, learning_rate = 0.05, max_depth=2)\n",
        "gbc.fit(x_train, y_train)"
      ]
    },
    {
      "cell_type": "markdown",
      "metadata": {
        "id": "yzVtBSlpo9wF"
      },
      "source": [
        "### 6.2.3 Evaluate using the same metrics as before (accuracy_score, precision_score, recall_score, confusion_matrix, f1_score, roc_auc_score) (3pt)"
      ]
    },
    {
      "cell_type": "code",
      "execution_count": 112,
      "metadata": {
        "id": "-xl5Bdwyk8_W",
        "colab": {
          "base_uri": "https://localhost:8080/",
          "height": 0
        },
        "outputId": "d02bed3e-469e-4e57-e7c5-acd63f5e046a"
      },
      "outputs": [
        {
          "output_type": "stream",
          "name": "stdout",
          "text": [
            "The accuracy score for gbc is  0.8589505024190547\n",
            "The precision score for gbc is  0.583756345177665\n",
            "The recall score for gbc is  0.5168539325842697\n",
            "The confusion matrix for gbc is  [[2078  164]\n",
            " [ 215  230]]\n",
            "The f1 score for gbc is  0.5482717520858165\n",
            "The roc auc score for gbc is  0.7218524792270143\n"
          ]
        }
      ],
      "source": [
        "y_test_pred = gbc.predict(x_test)\n",
        "\n",
        "print(\"The accuracy score for gbc is \", accuracy_score(y_test, y_test_pred))\n",
        "print(\"The precision score for gbc is \", precision_score(y_test, y_test_pred))\n",
        "print(\"The recall score for gbc is \", recall_score(y_test, y_test_pred))\n",
        "print(\"The confusion matrix for gbc is \", confusion_matrix(y_test, y_test_pred))\n",
        "print(\"The f1 score for gbc is \", f1_score(y_test, y_test_pred))\n",
        "print(\"The roc auc score for gbc is \", roc_auc_score(y_test, y_test_pred))"
      ]
    },
    {
      "cell_type": "markdown",
      "metadata": {
        "id": "LW4nKeUQ2Ewh"
      },
      "source": [
        "# 7. Summary Discussion (4 pts)"
      ]
    },
    {
      "cell_type": "markdown",
      "metadata": {
        "id": "LSekQD9J2GTc"
      },
      "source": [
        "Which model yields the highest precision? GradientBoostingClassifier had the highest precision at ~0.584.\n",
        "\n",
        "Which model yields the lowest recall? RandomForestClassifier had the lowest recall at ~0.418.\n",
        "\n",
        "Which model yields the higest True Positive (TP)? DecisionTreeClassifier *with the balanced SMOTENC data* had the highest true positive rate (the highest recall) at ~0.551.\n",
        "\n",
        "Which model yields the best performance overall? GradientBoostingClassifier had both the highest accuracy at ~0.859 and the highest precision at ~0.584."
      ]
    }
  ],
  "metadata": {
    "colab": {
      "provenance": []
    },
    "kernelspec": {
      "display_name": "Python 3",
      "language": "python",
      "name": "python3"
    },
    "language_info": {
      "name": "python",
      "version": "3.10.3 (tags/v3.10.3:a342a49, Mar 16 2022, 13:07:40) [MSC v.1929 64 bit (AMD64)]"
    },
    "vscode": {
      "interpreter": {
        "hash": "60b64012b5ed67907a10276cfdedd88214213599e926916fcf8c83729d3a7c3a"
      }
    }
  },
  "nbformat": 4,
  "nbformat_minor": 0
}